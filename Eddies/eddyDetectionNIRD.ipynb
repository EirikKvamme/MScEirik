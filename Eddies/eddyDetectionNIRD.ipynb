{
 "cells": [
  {
   "cell_type": "code",
   "execution_count": 1,
   "metadata": {},
   "outputs": [],
   "source": [
    "import detection as eddy\n",
    "import oceanspy as ospy\n",
    "import numpy as np\n",
    "import xarray as xr\n",
    "import matplotlib.pyplot as plt\n",
    "import cmocean.cm as cmo\n",
    "import cartopy.crs as ccrs\n",
    "from cartopy.mpl.gridliner import LONGITUDE_FORMATTER, LATITUDE_FORMATTER\n",
    "from matplotlib.path import Path\n",
    "from matplotlib.patches import PathPatch\n",
    "from matplotlib.colors import Normalize\n",
    "from matplotlib.collections import LineCollection\n",
    "import matplotlib.colors as mcolors\n",
    "import matplotlib.patches as mpatches\n",
    "from matplotlib.lines import Line2D\n",
    "from matplotlib.colors import SymLogNorm\n",
    "import tqdm\n",
    "import ast"
   ]
  },
  {
   "cell_type": "code",
   "execution_count": 2,
   "metadata": {},
   "outputs": [],
   "source": [
    "# Enable/disable computation of different domains\n",
    "config_parent_domain = False\n",
    "config_child_domain = False"
   ]
  },
  {
   "cell_type": "code",
   "execution_count": 3,
   "metadata": {},
   "outputs": [
    {
     "data": {
      "text/html": [
       "<div><svg style=\"position: absolute; width: 0; height: 0; overflow: hidden\">\n",
       "<defs>\n",
       "<symbol id=\"icon-database\" viewBox=\"0 0 32 32\">\n",
       "<path d=\"M16 0c-8.837 0-16 2.239-16 5v4c0 2.761 7.163 5 16 5s16-2.239 16-5v-4c0-2.761-7.163-5-16-5z\"></path>\n",
       "<path d=\"M16 17c-8.837 0-16-2.239-16-5v6c0 2.761 7.163 5 16 5s16-2.239 16-5v-6c0 2.761-7.163 5-16 5z\"></path>\n",
       "<path d=\"M16 26c-8.837 0-16-2.239-16-5v6c0 2.761 7.163 5 16 5s16-2.239 16-5v-6c0 2.761-7.163 5-16 5z\"></path>\n",
       "</symbol>\n",
       "<symbol id=\"icon-file-text2\" viewBox=\"0 0 32 32\">\n",
       "<path d=\"M28.681 7.159c-0.694-0.947-1.662-2.053-2.724-3.116s-2.169-2.030-3.116-2.724c-1.612-1.182-2.393-1.319-2.841-1.319h-15.5c-1.378 0-2.5 1.121-2.5 2.5v27c0 1.378 1.122 2.5 2.5 2.5h23c1.378 0 2.5-1.122 2.5-2.5v-19.5c0-0.448-0.137-1.23-1.319-2.841zM24.543 5.457c0.959 0.959 1.712 1.825 2.268 2.543h-4.811v-4.811c0.718 0.556 1.584 1.309 2.543 2.268zM28 29.5c0 0.271-0.229 0.5-0.5 0.5h-23c-0.271 0-0.5-0.229-0.5-0.5v-27c0-0.271 0.229-0.5 0.5-0.5 0 0 15.499-0 15.5 0v7c0 0.552 0.448 1 1 1h7v19.5z\"></path>\n",
       "<path d=\"M23 26h-14c-0.552 0-1-0.448-1-1s0.448-1 1-1h14c0.552 0 1 0.448 1 1s-0.448 1-1 1z\"></path>\n",
       "<path d=\"M23 22h-14c-0.552 0-1-0.448-1-1s0.448-1 1-1h14c0.552 0 1 0.448 1 1s-0.448 1-1 1z\"></path>\n",
       "<path d=\"M23 18h-14c-0.552 0-1-0.448-1-1s0.448-1 1-1h14c0.552 0 1 0.448 1 1s-0.448 1-1 1z\"></path>\n",
       "</symbol>\n",
       "</defs>\n",
       "</svg>\n",
       "<style>/* CSS stylesheet for displaying xarray objects in jupyterlab.\n",
       " *\n",
       " */\n",
       "\n",
       ":root {\n",
       "  --xr-font-color0: var(--jp-content-font-color0, rgba(0, 0, 0, 1));\n",
       "  --xr-font-color2: var(--jp-content-font-color2, rgba(0, 0, 0, 0.54));\n",
       "  --xr-font-color3: var(--jp-content-font-color3, rgba(0, 0, 0, 0.38));\n",
       "  --xr-border-color: var(--jp-border-color2, #e0e0e0);\n",
       "  --xr-disabled-color: var(--jp-layout-color3, #bdbdbd);\n",
       "  --xr-background-color: var(--jp-layout-color0, white);\n",
       "  --xr-background-color-row-even: var(--jp-layout-color1, white);\n",
       "  --xr-background-color-row-odd: var(--jp-layout-color2, #eeeeee);\n",
       "}\n",
       "\n",
       "html[theme=dark],\n",
       "body[data-theme=dark],\n",
       "body.vscode-dark {\n",
       "  --xr-font-color0: rgba(255, 255, 255, 1);\n",
       "  --xr-font-color2: rgba(255, 255, 255, 0.54);\n",
       "  --xr-font-color3: rgba(255, 255, 255, 0.38);\n",
       "  --xr-border-color: #1F1F1F;\n",
       "  --xr-disabled-color: #515151;\n",
       "  --xr-background-color: #111111;\n",
       "  --xr-background-color-row-even: #111111;\n",
       "  --xr-background-color-row-odd: #313131;\n",
       "}\n",
       "\n",
       ".xr-wrap {\n",
       "  display: block !important;\n",
       "  min-width: 300px;\n",
       "  max-width: 700px;\n",
       "}\n",
       "\n",
       ".xr-text-repr-fallback {\n",
       "  /* fallback to plain text repr when CSS is not injected (untrusted notebook) */\n",
       "  display: none;\n",
       "}\n",
       "\n",
       ".xr-header {\n",
       "  padding-top: 6px;\n",
       "  padding-bottom: 6px;\n",
       "  margin-bottom: 4px;\n",
       "  border-bottom: solid 1px var(--xr-border-color);\n",
       "}\n",
       "\n",
       ".xr-header > div,\n",
       ".xr-header > ul {\n",
       "  display: inline;\n",
       "  margin-top: 0;\n",
       "  margin-bottom: 0;\n",
       "}\n",
       "\n",
       ".xr-obj-type,\n",
       ".xr-array-name {\n",
       "  margin-left: 2px;\n",
       "  margin-right: 10px;\n",
       "}\n",
       "\n",
       ".xr-obj-type {\n",
       "  color: var(--xr-font-color2);\n",
       "}\n",
       "\n",
       ".xr-sections {\n",
       "  padding-left: 0 !important;\n",
       "  display: grid;\n",
       "  grid-template-columns: 150px auto auto 1fr 20px 20px;\n",
       "}\n",
       "\n",
       ".xr-section-item {\n",
       "  display: contents;\n",
       "}\n",
       "\n",
       ".xr-section-item input {\n",
       "  display: none;\n",
       "}\n",
       "\n",
       ".xr-section-item input + label {\n",
       "  color: var(--xr-disabled-color);\n",
       "}\n",
       "\n",
       ".xr-section-item input:enabled + label {\n",
       "  cursor: pointer;\n",
       "  color: var(--xr-font-color2);\n",
       "}\n",
       "\n",
       ".xr-section-item input:enabled + label:hover {\n",
       "  color: var(--xr-font-color0);\n",
       "}\n",
       "\n",
       ".xr-section-summary {\n",
       "  grid-column: 1;\n",
       "  color: var(--xr-font-color2);\n",
       "  font-weight: 500;\n",
       "}\n",
       "\n",
       ".xr-section-summary > span {\n",
       "  display: inline-block;\n",
       "  padding-left: 0.5em;\n",
       "}\n",
       "\n",
       ".xr-section-summary-in:disabled + label {\n",
       "  color: var(--xr-font-color2);\n",
       "}\n",
       "\n",
       ".xr-section-summary-in + label:before {\n",
       "  display: inline-block;\n",
       "  content: '►';\n",
       "  font-size: 11px;\n",
       "  width: 15px;\n",
       "  text-align: center;\n",
       "}\n",
       "\n",
       ".xr-section-summary-in:disabled + label:before {\n",
       "  color: var(--xr-disabled-color);\n",
       "}\n",
       "\n",
       ".xr-section-summary-in:checked + label:before {\n",
       "  content: '▼';\n",
       "}\n",
       "\n",
       ".xr-section-summary-in:checked + label > span {\n",
       "  display: none;\n",
       "}\n",
       "\n",
       ".xr-section-summary,\n",
       ".xr-section-inline-details {\n",
       "  padding-top: 4px;\n",
       "  padding-bottom: 4px;\n",
       "}\n",
       "\n",
       ".xr-section-inline-details {\n",
       "  grid-column: 2 / -1;\n",
       "}\n",
       "\n",
       ".xr-section-details {\n",
       "  display: none;\n",
       "  grid-column: 1 / -1;\n",
       "  margin-bottom: 5px;\n",
       "}\n",
       "\n",
       ".xr-section-summary-in:checked ~ .xr-section-details {\n",
       "  display: contents;\n",
       "}\n",
       "\n",
       ".xr-array-wrap {\n",
       "  grid-column: 1 / -1;\n",
       "  display: grid;\n",
       "  grid-template-columns: 20px auto;\n",
       "}\n",
       "\n",
       ".xr-array-wrap > label {\n",
       "  grid-column: 1;\n",
       "  vertical-align: top;\n",
       "}\n",
       "\n",
       ".xr-preview {\n",
       "  color: var(--xr-font-color3);\n",
       "}\n",
       "\n",
       ".xr-array-preview,\n",
       ".xr-array-data {\n",
       "  padding: 0 5px !important;\n",
       "  grid-column: 2;\n",
       "}\n",
       "\n",
       ".xr-array-data,\n",
       ".xr-array-in:checked ~ .xr-array-preview {\n",
       "  display: none;\n",
       "}\n",
       "\n",
       ".xr-array-in:checked ~ .xr-array-data,\n",
       ".xr-array-preview {\n",
       "  display: inline-block;\n",
       "}\n",
       "\n",
       ".xr-dim-list {\n",
       "  display: inline-block !important;\n",
       "  list-style: none;\n",
       "  padding: 0 !important;\n",
       "  margin: 0;\n",
       "}\n",
       "\n",
       ".xr-dim-list li {\n",
       "  display: inline-block;\n",
       "  padding: 0;\n",
       "  margin: 0;\n",
       "}\n",
       "\n",
       ".xr-dim-list:before {\n",
       "  content: '(';\n",
       "}\n",
       "\n",
       ".xr-dim-list:after {\n",
       "  content: ')';\n",
       "}\n",
       "\n",
       ".xr-dim-list li:not(:last-child):after {\n",
       "  content: ',';\n",
       "  padding-right: 5px;\n",
       "}\n",
       "\n",
       ".xr-has-index {\n",
       "  font-weight: bold;\n",
       "}\n",
       "\n",
       ".xr-var-list,\n",
       ".xr-var-item {\n",
       "  display: contents;\n",
       "}\n",
       "\n",
       ".xr-var-item > div,\n",
       ".xr-var-item label,\n",
       ".xr-var-item > .xr-var-name span {\n",
       "  background-color: var(--xr-background-color-row-even);\n",
       "  margin-bottom: 0;\n",
       "}\n",
       "\n",
       ".xr-var-item > .xr-var-name:hover span {\n",
       "  padding-right: 5px;\n",
       "}\n",
       "\n",
       ".xr-var-list > li:nth-child(odd) > div,\n",
       ".xr-var-list > li:nth-child(odd) > label,\n",
       ".xr-var-list > li:nth-child(odd) > .xr-var-name span {\n",
       "  background-color: var(--xr-background-color-row-odd);\n",
       "}\n",
       "\n",
       ".xr-var-name {\n",
       "  grid-column: 1;\n",
       "}\n",
       "\n",
       ".xr-var-dims {\n",
       "  grid-column: 2;\n",
       "}\n",
       "\n",
       ".xr-var-dtype {\n",
       "  grid-column: 3;\n",
       "  text-align: right;\n",
       "  color: var(--xr-font-color2);\n",
       "}\n",
       "\n",
       ".xr-var-preview {\n",
       "  grid-column: 4;\n",
       "}\n",
       "\n",
       ".xr-index-preview {\n",
       "  grid-column: 2 / 5;\n",
       "  color: var(--xr-font-color2);\n",
       "}\n",
       "\n",
       ".xr-var-name,\n",
       ".xr-var-dims,\n",
       ".xr-var-dtype,\n",
       ".xr-preview,\n",
       ".xr-attrs dt {\n",
       "  white-space: nowrap;\n",
       "  overflow: hidden;\n",
       "  text-overflow: ellipsis;\n",
       "  padding-right: 10px;\n",
       "}\n",
       "\n",
       ".xr-var-name:hover,\n",
       ".xr-var-dims:hover,\n",
       ".xr-var-dtype:hover,\n",
       ".xr-attrs dt:hover {\n",
       "  overflow: visible;\n",
       "  width: auto;\n",
       "  z-index: 1;\n",
       "}\n",
       "\n",
       ".xr-var-attrs,\n",
       ".xr-var-data,\n",
       ".xr-index-data {\n",
       "  display: none;\n",
       "  background-color: var(--xr-background-color) !important;\n",
       "  padding-bottom: 5px !important;\n",
       "}\n",
       "\n",
       ".xr-var-attrs-in:checked ~ .xr-var-attrs,\n",
       ".xr-var-data-in:checked ~ .xr-var-data,\n",
       ".xr-index-data-in:checked ~ .xr-index-data {\n",
       "  display: block;\n",
       "}\n",
       "\n",
       ".xr-var-data > table {\n",
       "  float: right;\n",
       "}\n",
       "\n",
       ".xr-var-name span,\n",
       ".xr-var-data,\n",
       ".xr-index-name div,\n",
       ".xr-index-data,\n",
       ".xr-attrs {\n",
       "  padding-left: 25px !important;\n",
       "}\n",
       "\n",
       ".xr-attrs,\n",
       ".xr-var-attrs,\n",
       ".xr-var-data,\n",
       ".xr-index-data {\n",
       "  grid-column: 1 / -1;\n",
       "}\n",
       "\n",
       "dl.xr-attrs {\n",
       "  padding: 0;\n",
       "  margin: 0;\n",
       "  display: grid;\n",
       "  grid-template-columns: 125px auto;\n",
       "}\n",
       "\n",
       ".xr-attrs dt,\n",
       ".xr-attrs dd {\n",
       "  padding: 0;\n",
       "  margin: 0;\n",
       "  float: left;\n",
       "  padding-right: 10px;\n",
       "  width: auto;\n",
       "}\n",
       "\n",
       ".xr-attrs dt {\n",
       "  font-weight: normal;\n",
       "  grid-column: 1;\n",
       "}\n",
       "\n",
       ".xr-attrs dt:hover span {\n",
       "  display: inline-block;\n",
       "  background: var(--xr-background-color);\n",
       "  padding-right: 10px;\n",
       "}\n",
       "\n",
       ".xr-attrs dd {\n",
       "  grid-column: 2;\n",
       "  white-space: pre-wrap;\n",
       "  word-break: break-all;\n",
       "}\n",
       "\n",
       ".xr-icon-database,\n",
       ".xr-icon-file-text2,\n",
       ".xr-no-icon {\n",
       "  display: inline-block;\n",
       "  vertical-align: middle;\n",
       "  width: 1em;\n",
       "  height: 1.5em !important;\n",
       "  stroke-width: 0;\n",
       "  stroke: currentColor;\n",
       "  fill: currentColor;\n",
       "}\n",
       "</style><pre class='xr-text-repr-fallback'>&lt;xarray.Dataset&gt;\n",
       "Dimensions:    (Z: 216, Zp1: 217, Zu: 216, Zl: 216, X: 765, Y: 628, Xp1: 766,\n",
       "                Yp1: 629, time: 12, time_midp: 11)\n",
       "Coordinates: (12/18)\n",
       "  * Z          (Z) float64 -1.0 -3.5 -7.0 ... -3.904e+03 -3.922e+03 -3.942e+03\n",
       "  * Zp1        (Zp1) float64 0.0 -2.0 -5.0 ... -3.913e+03 -3.932e+03 -3.951e+03\n",
       "  * Zu         (Zu) float64 -2.0 -5.0 -9.0 ... -3.913e+03 -3.932e+03 -3.951e+03\n",
       "  * Zl         (Zl) float64 0.0 -2.0 -5.0 ... -3.894e+03 -3.913e+03 -3.932e+03\n",
       "  * X          (X) float64 -29.92 -29.84 -29.76 -29.67 ... 11.72 11.82 11.92\n",
       "  * Y          (Y) float64 65.01 65.03 65.04 65.06 ... 78.67 78.75 78.83 78.92\n",
       "    ...         ...\n",
       "  * time       (time) datetime64[ns] 2017-09-01 2017-10-01 ... 2018-08-01\n",
       "    YU         (Y, Xp1) float64 ...\n",
       "    XU         (Y, Xp1) float64 ...\n",
       "    YV         (Yp1, X) float64 ...\n",
       "    XV         (Yp1, X) float64 ...\n",
       "  * time_midp  (time_midp) datetime64[ns] 2017-09-16 ... 2018-07-16T12:00:00\n",
       "Data variables:\n",
       "    U          (time, Z, Y, Xp1) float64 ...\n",
       "    V          (time, Z, Yp1, X) float64 ...\n",
       "    Temp       (time, Z, Y, X) float64 ...\n",
       "    S          (time, Z, Y, X) float64 ...\n",
       "    Eta        (time, Y, X) float64 ...\n",
       "    MXLDEPTH   (time, Y, X) float64 ...\n",
       "    SIarea     (time, Y, X) float64 ...\n",
       "    SIheff     (time, Y, X) float64 ...\n",
       "Attributes: (12/24)\n",
       "    MITgcm_version:          checkpoint67l\n",
       "    build_user:              malmans2@jhu.edu\n",
       "    build_host:              compute0673\n",
       "    build_date:              Fri Nov  8 01:36:45 EST 2019\n",
       "    MITgcm_URL:              http://mitgcm.org\n",
       "    MITgcm_tag_id:           \n",
       "    ...                      ...\n",
       "    OceanSpy_parameters:     {&#x27;rSphere&#x27;: 6371.0, &#x27;eq_state&#x27;: &#x27;mdjwf&#x27;, &#x27;rho0&#x27;:...\n",
       "    OceanSpy_name:           IGPyearlong\n",
       "    OceanSpy_description:    High-resolution numerical simulation carried out...\n",
       "    OceanSpy_projection:     Mercator(**{})\n",
       "    OceanSpy_grid_coords:    {&#x27;Y&#x27;: {&#x27;Y&#x27;: None, &#x27;Yp1&#x27;: 0.5}, &#x27;X&#x27;: {&#x27;X&#x27;: None, ...\n",
       "    OceanSpy_grid_periodic:  []</pre><div class='xr-wrap' style='display:none'><div class='xr-header'><div class='xr-obj-type'>xarray.Dataset</div></div><ul class='xr-sections'><li class='xr-section-item'><input id='section-f368f86b-342d-4fcd-9096-73520606775e' class='xr-section-summary-in' type='checkbox' disabled ><label for='section-f368f86b-342d-4fcd-9096-73520606775e' class='xr-section-summary'  title='Expand/collapse section'>Dimensions:</label><div class='xr-section-inline-details'><ul class='xr-dim-list'><li><span class='xr-has-index'>Z</span>: 216</li><li><span class='xr-has-index'>Zp1</span>: 217</li><li><span class='xr-has-index'>Zu</span>: 216</li><li><span class='xr-has-index'>Zl</span>: 216</li><li><span class='xr-has-index'>X</span>: 765</li><li><span class='xr-has-index'>Y</span>: 628</li><li><span class='xr-has-index'>Xp1</span>: 766</li><li><span class='xr-has-index'>Yp1</span>: 629</li><li><span class='xr-has-index'>time</span>: 12</li><li><span class='xr-has-index'>time_midp</span>: 11</li></ul></div><div class='xr-section-details'></div></li><li class='xr-section-item'><input id='section-29b5f34d-a8fa-4dc6-87ee-fd6d7ecff3f0' class='xr-section-summary-in' type='checkbox'  checked><label for='section-29b5f34d-a8fa-4dc6-87ee-fd6d7ecff3f0' class='xr-section-summary' >Coordinates: <span>(18)</span></label><div class='xr-section-inline-details'></div><div class='xr-section-details'><ul class='xr-var-list'><li class='xr-var-item'><div class='xr-var-name'><span class='xr-has-index'>Z</span></div><div class='xr-var-dims'>(Z)</div><div class='xr-var-dtype'>float64</div><div class='xr-var-preview xr-preview'>-1.0 -3.5 ... -3.922e+03 -3.942e+03</div><input id='attrs-bb7a64f5-cee3-4a73-9146-f77c763777b7' class='xr-var-attrs-in' type='checkbox' ><label for='attrs-bb7a64f5-cee3-4a73-9146-f77c763777b7' title='Show/Hide attributes'><svg class='icon xr-icon-file-text2'><use xlink:href='#icon-file-text2'></use></svg></label><input id='data-268582cc-5ff1-4403-9417-651d89508840' class='xr-var-data-in' type='checkbox'><label for='data-268582cc-5ff1-4403-9417-651d89508840' title='Show/Hide data repr'><svg class='icon xr-icon-database'><use xlink:href='#icon-database'></use></svg></label><div class='xr-var-attrs'><dl class='xr-attrs'><dt><span>long_name :</span></dt><dd>vertical coordinate of cell center</dd><dt><span>units :</span></dt><dd>meters</dd><dt><span>positive :</span></dt><dd>up</dd><dt><span>standard_name :</span></dt><dd>depth</dd></dl></div><div class='xr-var-data'><pre>array([-1.0000e+00, -3.5000e+00, -7.0000e+00, ..., -3.9035e+03, -3.9225e+03,\n",
       "       -3.9415e+03])</pre></div></li><li class='xr-var-item'><div class='xr-var-name'><span class='xr-has-index'>Zp1</span></div><div class='xr-var-dims'>(Zp1)</div><div class='xr-var-dtype'>float64</div><div class='xr-var-preview xr-preview'>0.0 -2.0 ... -3.932e+03 -3.951e+03</div><input id='attrs-63b0af3b-4463-4412-8bec-08656e0a6888' class='xr-var-attrs-in' type='checkbox' ><label for='attrs-63b0af3b-4463-4412-8bec-08656e0a6888' title='Show/Hide attributes'><svg class='icon xr-icon-file-text2'><use xlink:href='#icon-file-text2'></use></svg></label><input id='data-8e1c99e2-5bcb-468c-85eb-649e96df3b5c' class='xr-var-data-in' type='checkbox'><label for='data-8e1c99e2-5bcb-468c-85eb-649e96df3b5c' title='Show/Hide data repr'><svg class='icon xr-icon-database'><use xlink:href='#icon-database'></use></svg></label><div class='xr-var-attrs'><dl class='xr-attrs'><dt><span>long_name :</span></dt><dd>vertical coordinate of cell interface</dd><dt><span>units :</span></dt><dd>meters</dd><dt><span>positive :</span></dt><dd>up</dd><dt><span>standard_name :</span></dt><dd>depth_at_w_location</dd></dl></div><div class='xr-var-data'><pre>array([ 0.000e+00, -2.000e+00, -5.000e+00, ..., -3.913e+03, -3.932e+03,\n",
       "       -3.951e+03])</pre></div></li><li class='xr-var-item'><div class='xr-var-name'><span class='xr-has-index'>Zu</span></div><div class='xr-var-dims'>(Zu)</div><div class='xr-var-dtype'>float64</div><div class='xr-var-preview xr-preview'>-2.0 -5.0 ... -3.932e+03 -3.951e+03</div><input id='attrs-d16895e4-9746-4663-90fd-8f95d1b1d909' class='xr-var-attrs-in' type='checkbox' ><label for='attrs-d16895e4-9746-4663-90fd-8f95d1b1d909' title='Show/Hide attributes'><svg class='icon xr-icon-file-text2'><use xlink:href='#icon-file-text2'></use></svg></label><input id='data-85794892-aa38-4e63-92aa-6c599472dbe2' class='xr-var-data-in' type='checkbox'><label for='data-85794892-aa38-4e63-92aa-6c599472dbe2' title='Show/Hide data repr'><svg class='icon xr-icon-database'><use xlink:href='#icon-database'></use></svg></label><div class='xr-var-attrs'><dl class='xr-attrs'><dt><span>long_name :</span></dt><dd>vertical coordinate of lower cell interface</dd><dt><span>units :</span></dt><dd>meters</dd><dt><span>positive :</span></dt><dd>up</dd><dt><span>standard_name :</span></dt><dd>depth_at_upper_w_location</dd></dl></div><div class='xr-var-data'><pre>array([-2.000e+00, -5.000e+00, -9.000e+00, ..., -3.913e+03, -3.932e+03,\n",
       "       -3.951e+03])</pre></div></li><li class='xr-var-item'><div class='xr-var-name'><span class='xr-has-index'>Zl</span></div><div class='xr-var-dims'>(Zl)</div><div class='xr-var-dtype'>float64</div><div class='xr-var-preview xr-preview'>0.0 -2.0 ... -3.913e+03 -3.932e+03</div><input id='attrs-7f299b7c-2382-4559-9940-01313c677f51' class='xr-var-attrs-in' type='checkbox' ><label for='attrs-7f299b7c-2382-4559-9940-01313c677f51' title='Show/Hide attributes'><svg class='icon xr-icon-file-text2'><use xlink:href='#icon-file-text2'></use></svg></label><input id='data-7b1bd9e2-d29e-4f8e-8d45-54dc88b26ebf' class='xr-var-data-in' type='checkbox'><label for='data-7b1bd9e2-d29e-4f8e-8d45-54dc88b26ebf' title='Show/Hide data repr'><svg class='icon xr-icon-database'><use xlink:href='#icon-database'></use></svg></label><div class='xr-var-attrs'><dl class='xr-attrs'><dt><span>long_name :</span></dt><dd>vertical coordinate of upper cell interface</dd><dt><span>units :</span></dt><dd>meters</dd><dt><span>positive :</span></dt><dd>up</dd><dt><span>standard_name :</span></dt><dd>depth_at_lower_w_location</dd></dl></div><div class='xr-var-data'><pre>array([ 0.000e+00, -2.000e+00, -5.000e+00, ..., -3.894e+03, -3.913e+03,\n",
       "       -3.932e+03])</pre></div></li><li class='xr-var-item'><div class='xr-var-name'><span class='xr-has-index'>X</span></div><div class='xr-var-dims'>(X)</div><div class='xr-var-dtype'>float64</div><div class='xr-var-preview xr-preview'>-29.92 -29.84 ... 11.82 11.92</div><input id='attrs-45d84d12-3d73-40f0-9eee-446576036f7e' class='xr-var-attrs-in' type='checkbox' ><label for='attrs-45d84d12-3d73-40f0-9eee-446576036f7e' title='Show/Hide attributes'><svg class='icon xr-icon-file-text2'><use xlink:href='#icon-file-text2'></use></svg></label><input id='data-ba5cfae8-2114-4b73-a957-52e89cf373a6' class='xr-var-data-in' type='checkbox'><label for='data-ba5cfae8-2114-4b73-a957-52e89cf373a6' title='Show/Hide data repr'><svg class='icon xr-icon-database'><use xlink:href='#icon-database'></use></svg></label><div class='xr-var-attrs'><dl class='xr-attrs'><dt><span>long_name :</span></dt><dd>longitude of cell center</dd><dt><span>units :</span></dt><dd>degrees_east</dd></dl></div><div class='xr-var-data'><pre>array([-29.921145, -29.838591, -29.756446, ...,  11.71684 ,  11.815927,\n",
       "        11.915666])</pre></div></li><li class='xr-var-item'><div class='xr-var-name'><span class='xr-has-index'>Y</span></div><div class='xr-var-dims'>(Y)</div><div class='xr-var-dtype'>float64</div><div class='xr-var-preview xr-preview'>65.01 65.03 65.04 ... 78.83 78.92</div><input id='attrs-f368901b-901d-4ded-87bd-743d2c7e178c' class='xr-var-attrs-in' type='checkbox' ><label for='attrs-f368901b-901d-4ded-87bd-743d2c7e178c' title='Show/Hide attributes'><svg class='icon xr-icon-file-text2'><use xlink:href='#icon-file-text2'></use></svg></label><input id='data-41a765f2-96bc-438b-9c34-aab407b4b027' class='xr-var-data-in' type='checkbox'><label for='data-41a765f2-96bc-438b-9c34-aab407b4b027' title='Show/Hide data repr'><svg class='icon xr-icon-database'><use xlink:href='#icon-database'></use></svg></label><div class='xr-var-attrs'><dl class='xr-attrs'><dt><span>long_name :</span></dt><dd>latitude of cell center</dd><dt><span>units :</span></dt><dd>degrees_north</dd></dl></div><div class='xr-var-data'><pre>array([65.009525, 65.027218, 65.044877, ..., 78.753415, 78.833945, 78.916116])</pre></div></li><li class='xr-var-item'><div class='xr-var-name'><span>XC</span></div><div class='xr-var-dims'>(Y, X)</div><div class='xr-var-dtype'>float64</div><div class='xr-var-preview xr-preview'>...</div><input id='attrs-a1fb1653-693c-432c-93fa-522e56d086ef' class='xr-var-attrs-in' type='checkbox' ><label for='attrs-a1fb1653-693c-432c-93fa-522e56d086ef' title='Show/Hide attributes'><svg class='icon xr-icon-file-text2'><use xlink:href='#icon-file-text2'></use></svg></label><input id='data-498463d2-3da2-454f-b608-c56e66cf9341' class='xr-var-data-in' type='checkbox'><label for='data-498463d2-3da2-454f-b608-c56e66cf9341' title='Show/Hide data repr'><svg class='icon xr-icon-database'><use xlink:href='#icon-database'></use></svg></label><div class='xr-var-attrs'><dl class='xr-attrs'><dt><span>description :</span></dt><dd>X coordinate of cell center (T-P point)</dd><dt><span>units :</span></dt><dd>degree_east</dd><dt><span>standard_name :</span></dt><dd>longitude_at_T_location</dd><dt><span>long_name :</span></dt><dd>longitude</dd><dt><span>coordinate :</span></dt><dd>YC XC</dd></dl></div><div class='xr-var-data'><pre>[480420 values with dtype=float64]</pre></div></li><li class='xr-var-item'><div class='xr-var-name'><span>YC</span></div><div class='xr-var-dims'>(Y, X)</div><div class='xr-var-dtype'>float64</div><div class='xr-var-preview xr-preview'>...</div><input id='attrs-d53b475c-5c6e-4c09-8f2f-ad7fae182fc3' class='xr-var-attrs-in' type='checkbox' ><label for='attrs-d53b475c-5c6e-4c09-8f2f-ad7fae182fc3' title='Show/Hide attributes'><svg class='icon xr-icon-file-text2'><use xlink:href='#icon-file-text2'></use></svg></label><input id='data-cef374bb-6952-4c26-a925-13ff99693e51' class='xr-var-data-in' type='checkbox'><label for='data-cef374bb-6952-4c26-a925-13ff99693e51' title='Show/Hide data repr'><svg class='icon xr-icon-database'><use xlink:href='#icon-database'></use></svg></label><div class='xr-var-attrs'><dl class='xr-attrs'><dt><span>description :</span></dt><dd>Y coordinate of cell center (T-P point)</dd><dt><span>units :</span></dt><dd>degree_north</dd><dt><span>standard_name :</span></dt><dd>latitude_at_T_location</dd><dt><span>long_name :</span></dt><dd>latitude</dd><dt><span>coordinate :</span></dt><dd>YC XC</dd></dl></div><div class='xr-var-data'><pre>[480420 values with dtype=float64]</pre></div></li><li class='xr-var-item'><div class='xr-var-name'><span class='xr-has-index'>Xp1</span></div><div class='xr-var-dims'>(Xp1)</div><div class='xr-var-dtype'>float64</div><div class='xr-var-preview xr-preview'>-29.96 -29.88 -29.8 ... 11.87 11.96</div><input id='attrs-911c29d9-d515-45cf-9dd5-213c6d812344' class='xr-var-attrs-in' type='checkbox' ><label for='attrs-911c29d9-d515-45cf-9dd5-213c6d812344' title='Show/Hide attributes'><svg class='icon xr-icon-file-text2'><use xlink:href='#icon-file-text2'></use></svg></label><input id='data-93339aea-0f77-45de-8cc3-0c0d4dc9402a' class='xr-var-data-in' type='checkbox'><label for='data-93339aea-0f77-45de-8cc3-0c0d4dc9402a' title='Show/Hide data repr'><svg class='icon xr-icon-database'><use xlink:href='#icon-database'></use></svg></label><div class='xr-var-attrs'><dl class='xr-attrs'><dt><span>long_name :</span></dt><dd>longitude of cell corner</dd><dt><span>units :</span></dt><dd>degrees_east</dd></dl></div><div class='xr-var-data'><pre>array([-29.961366, -29.880924, -29.796257, ...,  11.765063,  11.866792,\n",
       "        11.96454 ])</pre></div></li><li class='xr-var-item'><div class='xr-var-name'><span class='xr-has-index'>Yp1</span></div><div class='xr-var-dims'>(Yp1)</div><div class='xr-var-dtype'>float64</div><div class='xr-var-preview xr-preview'>65.0 65.02 65.04 ... 78.88 78.96</div><input id='attrs-c054f7fd-7a7f-42f8-8ded-9bf5445be092' class='xr-var-attrs-in' type='checkbox' ><label for='attrs-c054f7fd-7a7f-42f8-8ded-9bf5445be092' title='Show/Hide attributes'><svg class='icon xr-icon-file-text2'><use xlink:href='#icon-file-text2'></use></svg></label><input id='data-3d0275ea-db5c-4580-a196-93c396b1c14a' class='xr-var-data-in' type='checkbox'><label for='data-3d0275ea-db5c-4580-a196-93c396b1c14a' title='Show/Hide data repr'><svg class='icon xr-icon-database'><use xlink:href='#icon-database'></use></svg></label><div class='xr-var-attrs'><dl class='xr-attrs'><dt><span>long_name :</span></dt><dd>latitude of cell corner</dd><dt><span>units :</span></dt><dd>degrees_north</dd></dl></div><div class='xr-var-data'><pre>array([65.000233, 65.018818, 65.035618, ..., 78.792841, 78.875049, 78.957183])</pre></div></li><li class='xr-var-item'><div class='xr-var-name'><span>XG</span></div><div class='xr-var-dims'>(Yp1, Xp1)</div><div class='xr-var-dtype'>float64</div><div class='xr-var-preview xr-preview'>...</div><input id='attrs-69a5c6a8-1d03-4dbe-a8dd-024da6fa3c2f' class='xr-var-attrs-in' type='checkbox' ><label for='attrs-69a5c6a8-1d03-4dbe-a8dd-024da6fa3c2f' title='Show/Hide attributes'><svg class='icon xr-icon-file-text2'><use xlink:href='#icon-file-text2'></use></svg></label><input id='data-8d5911fe-f97c-45c6-9410-d45b39cb0572' class='xr-var-data-in' type='checkbox'><label for='data-8d5911fe-f97c-45c6-9410-d45b39cb0572' title='Show/Hide data repr'><svg class='icon xr-icon-database'><use xlink:href='#icon-database'></use></svg></label><div class='xr-var-attrs'><dl class='xr-attrs'><dt><span>description :</span></dt><dd>X coordinate of cell corner (Vorticity point)</dd><dt><span>units :</span></dt><dd>degree_east</dd><dt><span>standard_name :</span></dt><dd>longitude_at_f_location</dd><dt><span>long_name :</span></dt><dd>longitude</dd><dt><span>coordinate :</span></dt><dd>YG XG</dd></dl></div><div class='xr-var-data'><pre>[481814 values with dtype=float64]</pre></div></li><li class='xr-var-item'><div class='xr-var-name'><span>YG</span></div><div class='xr-var-dims'>(Yp1, Xp1)</div><div class='xr-var-dtype'>float64</div><div class='xr-var-preview xr-preview'>...</div><input id='attrs-a3693b4c-1137-460b-b775-a7a094d2eeb3' class='xr-var-attrs-in' type='checkbox' ><label for='attrs-a3693b4c-1137-460b-b775-a7a094d2eeb3' title='Show/Hide attributes'><svg class='icon xr-icon-file-text2'><use xlink:href='#icon-file-text2'></use></svg></label><input id='data-900d18d6-6806-45f8-81c4-9e6968b8f1d7' class='xr-var-data-in' type='checkbox'><label for='data-900d18d6-6806-45f8-81c4-9e6968b8f1d7' title='Show/Hide data repr'><svg class='icon xr-icon-database'><use xlink:href='#icon-database'></use></svg></label><div class='xr-var-attrs'><dl class='xr-attrs'><dt><span>description :</span></dt><dd>Y coordinate of cell corner (Vorticity point)</dd><dt><span>units :</span></dt><dd>degree_north</dd><dt><span>standard_name :</span></dt><dd>latitude_at_f_location</dd><dt><span>long_name :</span></dt><dd>latitude</dd><dt><span>coordinate :</span></dt><dd>YG XG</dd></dl></div><div class='xr-var-data'><pre>[481814 values with dtype=float64]</pre></div></li><li class='xr-var-item'><div class='xr-var-name'><span class='xr-has-index'>time</span></div><div class='xr-var-dims'>(time)</div><div class='xr-var-dtype'>datetime64[ns]</div><div class='xr-var-preview xr-preview'>2017-09-01 ... 2018-08-01</div><input id='attrs-4bdeae9f-1fb9-457b-8f8a-fb62be9c7a7c' class='xr-var-attrs-in' type='checkbox' ><label for='attrs-4bdeae9f-1fb9-457b-8f8a-fb62be9c7a7c' title='Show/Hide attributes'><svg class='icon xr-icon-file-text2'><use xlink:href='#icon-file-text2'></use></svg></label><input id='data-688307a4-26fe-4455-8aa5-e92b0527dcab' class='xr-var-data-in' type='checkbox'><label for='data-688307a4-26fe-4455-8aa5-e92b0527dcab' title='Show/Hide data repr'><svg class='icon xr-icon-database'><use xlink:href='#icon-database'></use></svg></label><div class='xr-var-attrs'><dl class='xr-attrs'><dt><span>long_name :</span></dt><dd>model_time</dd></dl></div><div class='xr-var-data'><pre>array([&#x27;2017-09-01T00:00:00.000000000&#x27;, &#x27;2017-10-01T00:00:00.000000000&#x27;,\n",
       "       &#x27;2017-11-01T00:00:00.000000000&#x27;, &#x27;2017-12-01T00:00:00.000000000&#x27;,\n",
       "       &#x27;2018-01-01T00:00:00.000000000&#x27;, &#x27;2018-02-01T00:00:00.000000000&#x27;,\n",
       "       &#x27;2018-03-01T00:00:00.000000000&#x27;, &#x27;2018-04-01T00:00:00.000000000&#x27;,\n",
       "       &#x27;2018-05-01T00:00:00.000000000&#x27;, &#x27;2018-06-01T00:00:00.000000000&#x27;,\n",
       "       &#x27;2018-07-01T00:00:00.000000000&#x27;, &#x27;2018-08-01T00:00:00.000000000&#x27;],\n",
       "      dtype=&#x27;datetime64[ns]&#x27;)</pre></div></li><li class='xr-var-item'><div class='xr-var-name'><span>YU</span></div><div class='xr-var-dims'>(Y, Xp1)</div><div class='xr-var-dtype'>float64</div><div class='xr-var-preview xr-preview'>...</div><input id='attrs-a2ac6c15-acb9-4871-a94c-fb32d85fad2d' class='xr-var-attrs-in' type='checkbox' ><label for='attrs-a2ac6c15-acb9-4871-a94c-fb32d85fad2d' title='Show/Hide attributes'><svg class='icon xr-icon-file-text2'><use xlink:href='#icon-file-text2'></use></svg></label><input id='data-3176185c-74c3-4fda-9659-153b59a75ee1' class='xr-var-data-in' type='checkbox'><label for='data-3176185c-74c3-4fda-9659-153b59a75ee1' title='Show/Hide data repr'><svg class='icon xr-icon-database'><use xlink:href='#icon-database'></use></svg></label><div class='xr-var-attrs'><dl class='xr-attrs'><dt><span>description :</span></dt><dd>Y coordinate of cell corner (Vorticity point)</dd><dt><span>units :</span></dt><dd>degree_north</dd><dt><span>standard_name :</span></dt><dd>latitude_at_u_location</dd><dt><span>long_name :</span></dt><dd>latitude</dd><dt><span>coordinate :</span></dt><dd>YU XU</dd></dl></div><div class='xr-var-data'><pre>[481048 values with dtype=float64]</pre></div></li><li class='xr-var-item'><div class='xr-var-name'><span>XU</span></div><div class='xr-var-dims'>(Y, Xp1)</div><div class='xr-var-dtype'>float64</div><div class='xr-var-preview xr-preview'>...</div><input id='attrs-8326c626-853c-42be-aaed-b590f94b5167' class='xr-var-attrs-in' type='checkbox' ><label for='attrs-8326c626-853c-42be-aaed-b590f94b5167' title='Show/Hide attributes'><svg class='icon xr-icon-file-text2'><use xlink:href='#icon-file-text2'></use></svg></label><input id='data-f180f7b2-9aee-45fb-b63f-b6af40086cf7' class='xr-var-data-in' type='checkbox'><label for='data-f180f7b2-9aee-45fb-b63f-b6af40086cf7' title='Show/Hide data repr'><svg class='icon xr-icon-database'><use xlink:href='#icon-database'></use></svg></label><div class='xr-var-attrs'><dl class='xr-attrs'><dt><span>description :</span></dt><dd>X coordinate of cell corner (Vorticity point)</dd><dt><span>units :</span></dt><dd>degree_east</dd><dt><span>standard_name :</span></dt><dd>longitude_at_u_location</dd><dt><span>long_name :</span></dt><dd>longitude</dd><dt><span>coordinate :</span></dt><dd>YU XU</dd></dl></div><div class='xr-var-data'><pre>[481048 values with dtype=float64]</pre></div></li><li class='xr-var-item'><div class='xr-var-name'><span>YV</span></div><div class='xr-var-dims'>(Yp1, X)</div><div class='xr-var-dtype'>float64</div><div class='xr-var-preview xr-preview'>...</div><input id='attrs-f9e85aad-4aec-4746-890e-ac139f095275' class='xr-var-attrs-in' type='checkbox' ><label for='attrs-f9e85aad-4aec-4746-890e-ac139f095275' title='Show/Hide attributes'><svg class='icon xr-icon-file-text2'><use xlink:href='#icon-file-text2'></use></svg></label><input id='data-ef47ef15-6f44-44eb-bbe4-e02dfc661f54' class='xr-var-data-in' type='checkbox'><label for='data-ef47ef15-6f44-44eb-bbe4-e02dfc661f54' title='Show/Hide data repr'><svg class='icon xr-icon-database'><use xlink:href='#icon-database'></use></svg></label><div class='xr-var-attrs'><dl class='xr-attrs'><dt><span>description :</span></dt><dd>Y coordinate of cell corner (Vorticity point)</dd><dt><span>units :</span></dt><dd>degree_north</dd><dt><span>standard_name :</span></dt><dd>latitude_at_v_location</dd><dt><span>long_name :</span></dt><dd>latitude</dd><dt><span>coordinate :</span></dt><dd>YV XV</dd></dl></div><div class='xr-var-data'><pre>[481185 values with dtype=float64]</pre></div></li><li class='xr-var-item'><div class='xr-var-name'><span>XV</span></div><div class='xr-var-dims'>(Yp1, X)</div><div class='xr-var-dtype'>float64</div><div class='xr-var-preview xr-preview'>...</div><input id='attrs-90eaffca-a7ac-45c4-ac65-782ca5dc8f0e' class='xr-var-attrs-in' type='checkbox' ><label for='attrs-90eaffca-a7ac-45c4-ac65-782ca5dc8f0e' title='Show/Hide attributes'><svg class='icon xr-icon-file-text2'><use xlink:href='#icon-file-text2'></use></svg></label><input id='data-14401904-5ea0-4a18-8967-17811913002a' class='xr-var-data-in' type='checkbox'><label for='data-14401904-5ea0-4a18-8967-17811913002a' title='Show/Hide data repr'><svg class='icon xr-icon-database'><use xlink:href='#icon-database'></use></svg></label><div class='xr-var-attrs'><dl class='xr-attrs'><dt><span>description :</span></dt><dd>X coordinate of cell corner (Vorticity point)</dd><dt><span>units :</span></dt><dd>degree_east</dd><dt><span>standard_name :</span></dt><dd>longitude_at_v_location</dd><dt><span>long_name :</span></dt><dd>longitude</dd><dt><span>coordinate :</span></dt><dd>YV XV</dd></dl></div><div class='xr-var-data'><pre>[481185 values with dtype=float64]</pre></div></li><li class='xr-var-item'><div class='xr-var-name'><span class='xr-has-index'>time_midp</span></div><div class='xr-var-dims'>(time_midp)</div><div class='xr-var-dtype'>datetime64[ns]</div><div class='xr-var-preview xr-preview'>2017-09-16 ... 2018-07-16T12:00:00</div><input id='attrs-d61baa26-bd9a-465e-8217-e8b81b71ac08' class='xr-var-attrs-in' type='checkbox' ><label for='attrs-d61baa26-bd9a-465e-8217-e8b81b71ac08' title='Show/Hide attributes'><svg class='icon xr-icon-file-text2'><use xlink:href='#icon-file-text2'></use></svg></label><input id='data-5e145f1b-2f1e-45fb-9b1e-d17e9c99c6b2' class='xr-var-data-in' type='checkbox'><label for='data-5e145f1b-2f1e-45fb-9b1e-d17e9c99c6b2' title='Show/Hide data repr'><svg class='icon xr-icon-database'><use xlink:href='#icon-database'></use></svg></label><div class='xr-var-attrs'><dl class='xr-attrs'><dt><span>long_name :</span></dt><dd>Mid-points of model_time</dd></dl></div><div class='xr-var-data'><pre>array([&#x27;2017-09-16T00:00:00.000000000&#x27;, &#x27;2017-10-16T12:00:00.000000000&#x27;,\n",
       "       &#x27;2017-11-16T00:00:00.000000000&#x27;, &#x27;2017-12-16T12:00:00.000000000&#x27;,\n",
       "       &#x27;2018-01-16T12:00:00.000000000&#x27;, &#x27;2018-02-15T00:00:00.000000000&#x27;,\n",
       "       &#x27;2018-03-16T12:00:00.000000000&#x27;, &#x27;2018-04-16T00:00:00.000000000&#x27;,\n",
       "       &#x27;2018-05-16T12:00:00.000000000&#x27;, &#x27;2018-06-16T00:00:00.000000000&#x27;,\n",
       "       &#x27;2018-07-16T12:00:00.000000000&#x27;], dtype=&#x27;datetime64[ns]&#x27;)</pre></div></li></ul></div></li><li class='xr-section-item'><input id='section-9810faa5-932a-4a1b-81a0-4c2a1fb115cb' class='xr-section-summary-in' type='checkbox'  checked><label for='section-9810faa5-932a-4a1b-81a0-4c2a1fb115cb' class='xr-section-summary' >Data variables: <span>(8)</span></label><div class='xr-section-inline-details'></div><div class='xr-section-details'><ul class='xr-var-list'><li class='xr-var-item'><div class='xr-var-name'><span>U</span></div><div class='xr-var-dims'>(time, Z, Y, Xp1)</div><div class='xr-var-dtype'>float64</div><div class='xr-var-preview xr-preview'>...</div><input id='attrs-b46c1402-ae26-4e99-9421-4887e21e9e2f' class='xr-var-attrs-in' type='checkbox' ><label for='attrs-b46c1402-ae26-4e99-9421-4887e21e9e2f' title='Show/Hide attributes'><svg class='icon xr-icon-file-text2'><use xlink:href='#icon-file-text2'></use></svg></label><input id='data-1970ad95-210c-437d-9bc0-bafd4a9e441f' class='xr-var-data-in' type='checkbox'><label for='data-1970ad95-210c-437d-9bc0-bafd4a9e441f' title='Show/Hide data repr'><svg class='icon xr-icon-database'><use xlink:href='#icon-database'></use></svg></label><div class='xr-var-attrs'><dl class='xr-attrs'><dt><span>units :</span></dt><dd>m/s</dd><dt><span>standard_name :</span></dt><dd>sea_water_x_velocity</dd><dt><span>mate :</span></dt><dd>V</dd><dt><span>long_name :</span></dt><dd>Zonal Component of Velocity</dd><dt><span>_coordinates :</span></dt><dd>XU YU RC iter</dd></dl></div><div class='xr-var-data'><pre>[1246876416 values with dtype=float64]</pre></div></li><li class='xr-var-item'><div class='xr-var-name'><span>V</span></div><div class='xr-var-dims'>(time, Z, Yp1, X)</div><div class='xr-var-dtype'>float64</div><div class='xr-var-preview xr-preview'>...</div><input id='attrs-b1b8e19b-c5d6-44be-b6df-675f2608fccf' class='xr-var-attrs-in' type='checkbox' ><label for='attrs-b1b8e19b-c5d6-44be-b6df-675f2608fccf' title='Show/Hide attributes'><svg class='icon xr-icon-file-text2'><use xlink:href='#icon-file-text2'></use></svg></label><input id='data-472ce50d-ed8f-472b-bbc8-4dc06a3da078' class='xr-var-data-in' type='checkbox'><label for='data-472ce50d-ed8f-472b-bbc8-4dc06a3da078' title='Show/Hide data repr'><svg class='icon xr-icon-database'><use xlink:href='#icon-database'></use></svg></label><div class='xr-var-attrs'><dl class='xr-attrs'><dt><span>units :</span></dt><dd>m/s</dd><dt><span>standard_name :</span></dt><dd>sea_water_y_velocity</dd><dt><span>mate :</span></dt><dd>U</dd><dt><span>long_name :</span></dt><dd>Meridional Component of Velocity</dd><dt><span>_coordinates :</span></dt><dd>XV YV RC iter</dd></dl></div><div class='xr-var-data'><pre>[1247231520 values with dtype=float64]</pre></div></li><li class='xr-var-item'><div class='xr-var-name'><span>Temp</span></div><div class='xr-var-dims'>(time, Z, Y, X)</div><div class='xr-var-dtype'>float64</div><div class='xr-var-preview xr-preview'>...</div><input id='attrs-9040ba79-7b2c-45f2-8641-0e515683a494' class='xr-var-attrs-in' type='checkbox' ><label for='attrs-9040ba79-7b2c-45f2-8641-0e515683a494' title='Show/Hide attributes'><svg class='icon xr-icon-file-text2'><use xlink:href='#icon-file-text2'></use></svg></label><input id='data-736d24df-8ac2-49ee-b02f-1666629da5bf' class='xr-var-data-in' type='checkbox'><label for='data-736d24df-8ac2-49ee-b02f-1666629da5bf' title='Show/Hide data repr'><svg class='icon xr-icon-database'><use xlink:href='#icon-database'></use></svg></label><div class='xr-var-attrs'><dl class='xr-attrs'><dt><span>units :</span></dt><dd>degC</dd><dt><span>long_name :</span></dt><dd>potential_temperature</dd><dt><span>standard_name :</span></dt><dd>sea_water_potential_temperature</dd><dt><span>_coordinates :</span></dt><dd>XC YC RC iter</dd></dl></div><div class='xr-var-data'><pre>[1245248640 values with dtype=float64]</pre></div></li><li class='xr-var-item'><div class='xr-var-name'><span>S</span></div><div class='xr-var-dims'>(time, Z, Y, X)</div><div class='xr-var-dtype'>float64</div><div class='xr-var-preview xr-preview'>...</div><input id='attrs-85e1d029-00ec-4ef9-9f71-3d0ffce614bb' class='xr-var-attrs-in' type='checkbox' ><label for='attrs-85e1d029-00ec-4ef9-9f71-3d0ffce614bb' title='Show/Hide attributes'><svg class='icon xr-icon-file-text2'><use xlink:href='#icon-file-text2'></use></svg></label><input id='data-8b499471-7f84-49d6-900e-8e642629bb96' class='xr-var-data-in' type='checkbox'><label for='data-8b499471-7f84-49d6-900e-8e642629bb96' title='Show/Hide data repr'><svg class='icon xr-icon-database'><use xlink:href='#icon-database'></use></svg></label><div class='xr-var-attrs'><dl class='xr-attrs'><dt><span>long_name :</span></dt><dd>salinity</dd><dt><span>standard_name :</span></dt><dd>sea_water_salinity</dd><dt><span>units :</span></dt><dd>g kg-1</dd><dt><span>_coordinates :</span></dt><dd>XC YC RC iter</dd></dl></div><div class='xr-var-data'><pre>[1245248640 values with dtype=float64]</pre></div></li><li class='xr-var-item'><div class='xr-var-name'><span>Eta</span></div><div class='xr-var-dims'>(time, Y, X)</div><div class='xr-var-dtype'>float64</div><div class='xr-var-preview xr-preview'>...</div><input id='attrs-5610124c-b650-4e7c-a4a4-a70305aabb4c' class='xr-var-attrs-in' type='checkbox' ><label for='attrs-5610124c-b650-4e7c-a4a4-a70305aabb4c' title='Show/Hide attributes'><svg class='icon xr-icon-file-text2'><use xlink:href='#icon-file-text2'></use></svg></label><input id='data-8b334dd6-3f1f-4ba1-b3aa-21d47de3c008' class='xr-var-data-in' type='checkbox'><label for='data-8b334dd6-3f1f-4ba1-b3aa-21d47de3c008' title='Show/Hide data repr'><svg class='icon xr-icon-database'><use xlink:href='#icon-database'></use></svg></label><div class='xr-var-attrs'><dl class='xr-attrs'><dt><span>long_name :</span></dt><dd>free-surface_r-anomaly</dd><dt><span>units :</span></dt><dd>m</dd><dt><span>standard_name :</span></dt><dd>sea_surface_height_above_geoid</dd><dt><span>_coordinates :</span></dt><dd>XC YC iter</dd></dl></div><div class='xr-var-data'><pre>[5765040 values with dtype=float64]</pre></div></li><li class='xr-var-item'><div class='xr-var-name'><span>MXLDEPTH</span></div><div class='xr-var-dims'>(time, Y, X)</div><div class='xr-var-dtype'>float64</div><div class='xr-var-preview xr-preview'>...</div><input id='attrs-292ddbe5-31de-4291-9d8b-3586c24a8a9f' class='xr-var-attrs-in' type='checkbox' ><label for='attrs-292ddbe5-31de-4291-9d8b-3586c24a8a9f' title='Show/Hide attributes'><svg class='icon xr-icon-file-text2'><use xlink:href='#icon-file-text2'></use></svg></label><input id='data-970315f3-952a-48c3-9540-59b179131340' class='xr-var-data-in' type='checkbox'><label for='data-970315f3-952a-48c3-9540-59b179131340' title='Show/Hide data repr'><svg class='icon xr-icon-database'><use xlink:href='#icon-database'></use></svg></label><div class='xr-var-attrs'><dl class='xr-attrs'><dt><span>description :</span></dt><dd>Mixed-Layer Depth (&gt;0)</dd><dt><span>units :</span></dt><dd>m</dd><dt><span>standard_name :</span></dt><dd>MXLDEPTH</dd><dt><span>long_name :</span></dt><dd>Mixed-Layer Depth (&gt;0)</dd></dl></div><div class='xr-var-data'><pre>[5765040 values with dtype=float64]</pre></div></li><li class='xr-var-item'><div class='xr-var-name'><span>SIarea</span></div><div class='xr-var-dims'>(time, Y, X)</div><div class='xr-var-dtype'>float64</div><div class='xr-var-preview xr-preview'>...</div><input id='attrs-d8d072dd-9986-4351-962f-1f686458c7fd' class='xr-var-attrs-in' type='checkbox' ><label for='attrs-d8d072dd-9986-4351-962f-1f686458c7fd' title='Show/Hide attributes'><svg class='icon xr-icon-file-text2'><use xlink:href='#icon-file-text2'></use></svg></label><input id='data-43006db5-d839-4743-8df8-fe0d19fc062b' class='xr-var-data-in' type='checkbox'><label for='data-43006db5-d839-4743-8df8-fe0d19fc062b' title='Show/Hide data repr'><svg class='icon xr-icon-database'><use xlink:href='#icon-database'></use></svg></label><div class='xr-var-attrs'><dl class='xr-attrs'><dt><span>description :</span></dt><dd>SEAICE fractional ice-covered area [0 to 1]</dd><dt><span>units :</span></dt><dd>m^2/m^2</dd><dt><span>standard_name :</span></dt><dd>SIarea</dd><dt><span>long_name :</span></dt><dd>SEAICE fractional ice-covered area [0 to 1]</dd></dl></div><div class='xr-var-data'><pre>[5765040 values with dtype=float64]</pre></div></li><li class='xr-var-item'><div class='xr-var-name'><span>SIheff</span></div><div class='xr-var-dims'>(time, Y, X)</div><div class='xr-var-dtype'>float64</div><div class='xr-var-preview xr-preview'>...</div><input id='attrs-236c1eba-baef-468c-a4c2-f2f9b2dd76e0' class='xr-var-attrs-in' type='checkbox' ><label for='attrs-236c1eba-baef-468c-a4c2-f2f9b2dd76e0' title='Show/Hide attributes'><svg class='icon xr-icon-file-text2'><use xlink:href='#icon-file-text2'></use></svg></label><input id='data-dac57133-bc14-4855-b8c3-873f47bcd39a' class='xr-var-data-in' type='checkbox'><label for='data-dac57133-bc14-4855-b8c3-873f47bcd39a' title='Show/Hide data repr'><svg class='icon xr-icon-database'><use xlink:href='#icon-database'></use></svg></label><div class='xr-var-attrs'><dl class='xr-attrs'><dt><span>description :</span></dt><dd>SEAICE effective ice thickness</dd><dt><span>units :</span></dt><dd>m</dd><dt><span>standard_name :</span></dt><dd>SIheff</dd><dt><span>long_name :</span></dt><dd>SEAICE effective ice thickness</dd></dl></div><div class='xr-var-data'><pre>[5765040 values with dtype=float64]</pre></div></li></ul></div></li><li class='xr-section-item'><input id='section-da7f5e1a-b5cd-45f2-9d7f-1cf02e711636' class='xr-section-summary-in' type='checkbox'  ><label for='section-da7f5e1a-b5cd-45f2-9d7f-1cf02e711636' class='xr-section-summary' >Indexes: <span>(10)</span></label><div class='xr-section-inline-details'></div><div class='xr-section-details'><ul class='xr-var-list'><li class='xr-var-item'><div class='xr-index-name'><div>Z</div></div><div class='xr-index-preview'>PandasIndex</div><div></div><input id='index-327676c3-211c-47b2-8f2b-cf671bd8c9d8' class='xr-index-data-in' type='checkbox'/><label for='index-327676c3-211c-47b2-8f2b-cf671bd8c9d8' title='Show/Hide index repr'><svg class='icon xr-icon-database'><use xlink:href='#icon-database'></use></svg></label><div class='xr-index-data'><pre>PandasIndex(Index([   -1.0,    -3.5,    -7.0,   -11.5,   -17.0,   -23.5,   -31.0,   -39.5,\n",
       "         -49.0,   -59.5,\n",
       "       ...\n",
       "       -3770.5, -3789.5, -3808.5, -3827.5, -3846.5, -3865.5, -3884.5, -3903.5,\n",
       "       -3922.5, -3941.5],\n",
       "      dtype=&#x27;float64&#x27;, name=&#x27;Z&#x27;, length=216))</pre></div></li><li class='xr-var-item'><div class='xr-index-name'><div>Zp1</div></div><div class='xr-index-preview'>PandasIndex</div><div></div><input id='index-f50269e7-8a4c-4a00-8454-089790b9ddfd' class='xr-index-data-in' type='checkbox'/><label for='index-f50269e7-8a4c-4a00-8454-089790b9ddfd' title='Show/Hide index repr'><svg class='icon xr-icon-database'><use xlink:href='#icon-database'></use></svg></label><div class='xr-index-data'><pre>PandasIndex(Index([    0.0,    -2.0,    -5.0,    -9.0,   -14.0,   -20.0,   -27.0,   -35.0,\n",
       "         -44.0,   -54.0,\n",
       "       ...\n",
       "       -3780.0, -3799.0, -3818.0, -3837.0, -3856.0, -3875.0, -3894.0, -3913.0,\n",
       "       -3932.0, -3951.0],\n",
       "      dtype=&#x27;float64&#x27;, name=&#x27;Zp1&#x27;, length=217))</pre></div></li><li class='xr-var-item'><div class='xr-index-name'><div>Zu</div></div><div class='xr-index-preview'>PandasIndex</div><div></div><input id='index-cb227bdd-6c72-4a10-b2cd-387fefe3e2b7' class='xr-index-data-in' type='checkbox'/><label for='index-cb227bdd-6c72-4a10-b2cd-387fefe3e2b7' title='Show/Hide index repr'><svg class='icon xr-icon-database'><use xlink:href='#icon-database'></use></svg></label><div class='xr-index-data'><pre>PandasIndex(Index([   -2.0,    -5.0,    -9.0,   -14.0,   -20.0,   -27.0,   -35.0,   -44.0,\n",
       "         -54.0,   -65.0,\n",
       "       ...\n",
       "       -3780.0, -3799.0, -3818.0, -3837.0, -3856.0, -3875.0, -3894.0, -3913.0,\n",
       "       -3932.0, -3951.0],\n",
       "      dtype=&#x27;float64&#x27;, name=&#x27;Zu&#x27;, length=216))</pre></div></li><li class='xr-var-item'><div class='xr-index-name'><div>Zl</div></div><div class='xr-index-preview'>PandasIndex</div><div></div><input id='index-c3323dba-db20-4ea9-963c-fb5387569318' class='xr-index-data-in' type='checkbox'/><label for='index-c3323dba-db20-4ea9-963c-fb5387569318' title='Show/Hide index repr'><svg class='icon xr-icon-database'><use xlink:href='#icon-database'></use></svg></label><div class='xr-index-data'><pre>PandasIndex(Index([    0.0,    -2.0,    -5.0,    -9.0,   -14.0,   -20.0,   -27.0,   -35.0,\n",
       "         -44.0,   -54.0,\n",
       "       ...\n",
       "       -3761.0, -3780.0, -3799.0, -3818.0, -3837.0, -3856.0, -3875.0, -3894.0,\n",
       "       -3913.0, -3932.0],\n",
       "      dtype=&#x27;float64&#x27;, name=&#x27;Zl&#x27;, length=216))</pre></div></li><li class='xr-var-item'><div class='xr-index-name'><div>X</div></div><div class='xr-index-preview'>PandasIndex</div><div></div><input id='index-fbc96eda-d11c-4ba8-b8cf-8645fd82d54a' class='xr-index-data-in' type='checkbox'/><label for='index-fbc96eda-d11c-4ba8-b8cf-8645fd82d54a' title='Show/Hide index repr'><svg class='icon xr-icon-database'><use xlink:href='#icon-database'></use></svg></label><div class='xr-index-data'><pre>PandasIndex(Index([-29.921144649999995, -29.838590594999992, -29.756446309999994,\n",
       "       -29.674706634999993, -29.593366509999992,  -29.51242096499999,\n",
       "       -29.431865110000004, -29.351694145000003, -29.271903355000006,\n",
       "       -29.192488105000002,\n",
       "       ...\n",
       "        11.040646899999995,  11.135444859999996,  11.230828169999997,\n",
       "        11.326805629999997,  11.423386239999997,  11.520579194999998,\n",
       "        11.618393899999997,  11.716839964999998,         11.81592723,\n",
       "              11.915665735],\n",
       "      dtype=&#x27;float64&#x27;, name=&#x27;X&#x27;, length=765))</pre></div></li><li class='xr-var-item'><div class='xr-index-name'><div>Y</div></div><div class='xr-index-preview'>PandasIndex</div><div></div><input id='index-87c5ebc5-3326-4023-b4f6-e7d3c715b0be' class='xr-index-data-in' type='checkbox'/><label for='index-87c5ebc5-3326-4023-b4f6-e7d3c715b0be' title='Show/Hide index repr'><svg class='icon xr-icon-database'><use xlink:href='#icon-database'></use></svg></label><div class='xr-index-data'><pre>PandasIndex(Index([      65.00952532,      65.027217825,      65.044877125,\n",
       "       65.06250351999999, 65.08009730999999,       65.09765879,\n",
       "       65.11518825499999, 65.13268599499999,      65.150152295,\n",
       "             65.16758744,\n",
       "       ...\n",
       "       78.23043601999998, 78.30116881499998,      78.373143855,\n",
       "       78.44640859999998, 78.52101326999998, 78.59701106499998,\n",
       "       78.67445840999997, 78.75341520499998, 78.83394513499998,\n",
       "       78.91611599499997],\n",
       "      dtype=&#x27;float64&#x27;, name=&#x27;Y&#x27;, length=628))</pre></div></li><li class='xr-var-item'><div class='xr-index-name'><div>Xp1</div></div><div class='xr-index-preview'>PandasIndex</div><div></div><input id='index-3e2c3335-0ad1-45cb-884d-09ac6ce9dfd2' class='xr-index-data-in' type='checkbox'/><label for='index-3e2c3335-0ad1-45cb-884d-09ac6ce9dfd2' title='Show/Hide index repr'><svg class='icon xr-icon-database'><use xlink:href='#icon-database'></use></svg></label><div class='xr-index-data'><pre>PandasIndex(Index([-29.961365599999993, -29.880923699999993,  -29.79625748999999,\n",
       "       -29.716635129999993, -29.632778139999992, -29.553954879999992,\n",
       "              -29.47088705, -29.392843170000003, -29.310545120000004,\n",
       "       -29.233261590000005,\n",
       "       ...\n",
       "        11.089059799999996,  11.181829919999997,  11.279826419999997,\n",
       "        11.373784839999997,  11.472987639999998,  11.568170749999998,\n",
       "        11.668617049999998,  11.765062879999999,         11.86679158,\n",
       "               11.96453989],\n",
       "      dtype=&#x27;float64&#x27;, name=&#x27;Xp1&#x27;, length=766))</pre></div></li><li class='xr-var-item'><div class='xr-index-name'><div>Yp1</div></div><div class='xr-index-preview'>PandasIndex</div><div></div><input id='index-17f057cb-7f90-4f85-bcd0-afb3e2ce3554' class='xr-index-data-in' type='checkbox'/><label for='index-17f057cb-7f90-4f85-bcd0-afb3e2ce3554' title='Show/Hide index repr'><svg class='icon xr-icon-database'><use xlink:href='#icon-database'></use></svg></label><div class='xr-index-data'><pre>PandasIndex(Index([      65.00023311, 65.01881752999999,       65.03561812,\n",
       "       65.05413612999999, 65.07087090999998, 65.08932370999999,\n",
       "       65.10599386999999,       65.12438264,       65.14098935,\n",
       "             65.15931524,\n",
       "       ...\n",
       "       78.26593523999999, 78.33640238999999, 78.40988531999999,\n",
       "       78.48293187999998, 78.55909465999999, 78.63492746999998,\n",
       "       78.71398934999998, 78.79284105999997, 78.87504920999997,\n",
       "       78.95718277999997],\n",
       "      dtype=&#x27;float64&#x27;, name=&#x27;Yp1&#x27;, length=629))</pre></div></li><li class='xr-var-item'><div class='xr-index-name'><div>time</div></div><div class='xr-index-preview'>PandasIndex</div><div></div><input id='index-99d78785-065d-4cd6-a3e2-c9d9434f514e' class='xr-index-data-in' type='checkbox'/><label for='index-99d78785-065d-4cd6-a3e2-c9d9434f514e' title='Show/Hide index repr'><svg class='icon xr-icon-database'><use xlink:href='#icon-database'></use></svg></label><div class='xr-index-data'><pre>PandasIndex(DatetimeIndex([&#x27;2017-09-01&#x27;, &#x27;2017-10-01&#x27;, &#x27;2017-11-01&#x27;, &#x27;2017-12-01&#x27;,\n",
       "               &#x27;2018-01-01&#x27;, &#x27;2018-02-01&#x27;, &#x27;2018-03-01&#x27;, &#x27;2018-04-01&#x27;,\n",
       "               &#x27;2018-05-01&#x27;, &#x27;2018-06-01&#x27;, &#x27;2018-07-01&#x27;, &#x27;2018-08-01&#x27;],\n",
       "              dtype=&#x27;datetime64[ns]&#x27;, name=&#x27;time&#x27;, freq=None))</pre></div></li><li class='xr-var-item'><div class='xr-index-name'><div>time_midp</div></div><div class='xr-index-preview'>PandasIndex</div><div></div><input id='index-f74a249e-3994-4139-b9e3-875b2e76cdd6' class='xr-index-data-in' type='checkbox'/><label for='index-f74a249e-3994-4139-b9e3-875b2e76cdd6' title='Show/Hide index repr'><svg class='icon xr-icon-database'><use xlink:href='#icon-database'></use></svg></label><div class='xr-index-data'><pre>PandasIndex(DatetimeIndex([&#x27;2017-09-16 00:00:00&#x27;, &#x27;2017-10-16 12:00:00&#x27;,\n",
       "               &#x27;2017-11-16 00:00:00&#x27;, &#x27;2017-12-16 12:00:00&#x27;,\n",
       "               &#x27;2018-01-16 12:00:00&#x27;, &#x27;2018-02-15 00:00:00&#x27;,\n",
       "               &#x27;2018-03-16 12:00:00&#x27;, &#x27;2018-04-16 00:00:00&#x27;,\n",
       "               &#x27;2018-05-16 12:00:00&#x27;, &#x27;2018-06-16 00:00:00&#x27;,\n",
       "               &#x27;2018-07-16 12:00:00&#x27;],\n",
       "              dtype=&#x27;datetime64[ns]&#x27;, name=&#x27;time_midp&#x27;, freq=None))</pre></div></li></ul></div></li><li class='xr-section-item'><input id='section-7cd502ae-5c36-4b4d-8525-4dd46bd9ee0c' class='xr-section-summary-in' type='checkbox'  ><label for='section-7cd502ae-5c36-4b4d-8525-4dd46bd9ee0c' class='xr-section-summary' >Attributes: <span>(24)</span></label><div class='xr-section-inline-details'></div><div class='xr-section-details'><dl class='xr-attrs'><dt><span>MITgcm_version :</span></dt><dd>checkpoint67l</dd><dt><span>build_user :</span></dt><dd>malmans2@jhu.edu</dd><dt><span>build_host :</span></dt><dd>compute0673</dd><dt><span>build_date :</span></dt><dd>Fri Nov  8 01:36:45 EST 2019</dd><dt><span>MITgcm_URL :</span></dt><dd>http://mitgcm.org</dd><dt><span>MITgcm_tag_id :</span></dt><dd></dd><dt><span>MITgcm_mnc_ver :</span></dt><dd>0.9</dd><dt><span>sNx :</span></dt><dd>40</dd><dt><span>sNy :</span></dt><dd>44</dd><dt><span>OLx :</span></dt><dd>4</dd><dt><span>OLy :</span></dt><dd>4</dd><dt><span>nSx :</span></dt><dd>1</dd><dt><span>nSy :</span></dt><dd>1</dd><dt><span>nPx :</span></dt><dd>24</dd><dt><span>nPy :</span></dt><dd>20</dd><dt><span>Nx :</span></dt><dd>960</dd><dt><span>Ny :</span></dt><dd>880</dd><dt><span>Nr :</span></dt><dd>216</dd><dt><span>OceanSpy_parameters :</span></dt><dd>{&#x27;rSphere&#x27;: 6371.0, &#x27;eq_state&#x27;: &#x27;mdjwf&#x27;, &#x27;rho0&#x27;: 1027, &#x27;g&#x27;: 9.8156, &#x27;eps_nh&#x27;: 0, &#x27;omega&#x27;: 7.292123516990375e-05, &#x27;c_p&#x27;: 3986.0, &#x27;tempFrz0&#x27;: 0.0901, &#x27;dTempFrz_dS&#x27;: -0.0575}</dd><dt><span>OceanSpy_name :</span></dt><dd>IGPyearlong</dd><dt><span>OceanSpy_description :</span></dt><dd>High-resolution numerical simulation carried out in parallel to the observational\n",
       "component of the Iceland Greenland Seas Project (IGP). Year-long simulation.</dd><dt><span>OceanSpy_projection :</span></dt><dd>Mercator(**{})</dd><dt><span>OceanSpy_grid_coords :</span></dt><dd>{&#x27;Y&#x27;: {&#x27;Y&#x27;: None, &#x27;Yp1&#x27;: 0.5}, &#x27;X&#x27;: {&#x27;X&#x27;: None, &#x27;Xp1&#x27;: 0.5}, &#x27;Z&#x27;: {&#x27;Z&#x27;: None, &#x27;Zp1&#x27;: 0.5, &#x27;Zu&#x27;: 0.5, &#x27;Zl&#x27;: -0.5}, &#x27;time&#x27;: {&#x27;time&#x27;: -0.5, &#x27;time_midp&#x27;: None}}</dd><dt><span>OceanSpy_grid_periodic :</span></dt><dd>[]</dd></dl></div></li></ul></div></div>"
      ],
      "text/plain": [
       "<xarray.Dataset>\n",
       "Dimensions:    (Z: 216, Zp1: 217, Zu: 216, Zl: 216, X: 765, Y: 628, Xp1: 766,\n",
       "                Yp1: 629, time: 12, time_midp: 11)\n",
       "Coordinates: (12/18)\n",
       "  * Z          (Z) float64 -1.0 -3.5 -7.0 ... -3.904e+03 -3.922e+03 -3.942e+03\n",
       "  * Zp1        (Zp1) float64 0.0 -2.0 -5.0 ... -3.913e+03 -3.932e+03 -3.951e+03\n",
       "  * Zu         (Zu) float64 -2.0 -5.0 -9.0 ... -3.913e+03 -3.932e+03 -3.951e+03\n",
       "  * Zl         (Zl) float64 0.0 -2.0 -5.0 ... -3.894e+03 -3.913e+03 -3.932e+03\n",
       "  * X          (X) float64 -29.92 -29.84 -29.76 -29.67 ... 11.72 11.82 11.92\n",
       "  * Y          (Y) float64 65.01 65.03 65.04 65.06 ... 78.67 78.75 78.83 78.92\n",
       "    ...         ...\n",
       "  * time       (time) datetime64[ns] 2017-09-01 2017-10-01 ... 2018-08-01\n",
       "    YU         (Y, Xp1) float64 ...\n",
       "    XU         (Y, Xp1) float64 ...\n",
       "    YV         (Yp1, X) float64 ...\n",
       "    XV         (Yp1, X) float64 ...\n",
       "  * time_midp  (time_midp) datetime64[ns] 2017-09-16 ... 2018-07-16T12:00:00\n",
       "Data variables:\n",
       "    U          (time, Z, Y, Xp1) float64 ...\n",
       "    V          (time, Z, Yp1, X) float64 ...\n",
       "    Temp       (time, Z, Y, X) float64 ...\n",
       "    S          (time, Z, Y, X) float64 ...\n",
       "    Eta        (time, Y, X) float64 ...\n",
       "    MXLDEPTH   (time, Y, X) float64 ...\n",
       "    SIarea     (time, Y, X) float64 ...\n",
       "    SIheff     (time, Y, X) float64 ...\n",
       "Attributes: (12/24)\n",
       "    MITgcm_version:          checkpoint67l\n",
       "    build_user:              malmans2@jhu.edu\n",
       "    build_host:              compute0673\n",
       "    build_date:              Fri Nov  8 01:36:45 EST 2019\n",
       "    MITgcm_URL:              http://mitgcm.org\n",
       "    MITgcm_tag_id:           \n",
       "    ...                      ...\n",
       "    OceanSpy_parameters:     {'rSphere': 6371.0, 'eq_state': 'mdjwf', 'rho0':...\n",
       "    OceanSpy_name:           IGPyearlong\n",
       "    OceanSpy_description:    High-resolution numerical simulation carried out...\n",
       "    OceanSpy_projection:     Mercator(**{})\n",
       "    OceanSpy_grid_coords:    {'Y': {'Y': None, 'Yp1': 0.5}, 'X': {'X': None, ...\n",
       "    OceanSpy_grid_periodic:  []"
      ]
     },
     "metadata": {},
     "output_type": "display_data"
    }
   ],
   "source": [
    "# Import data\n",
    "df_OW = xr.open_dataset('/nird/projects/NS9608K/MSc_EK/Data/Horizontal_Okubo_Weiss.nc')['Okubo_Weiss']\n",
    "df_OW = df_OW*(1/(10**(-9)))\n",
    "df_eta = xr.open_dataset('/nird/projects/NS9608K/MSc_EK/Data/Horizontal_Eta.nc')['Eta']\n",
    "df = xr.open_dataset(r'/nird/projects/NS9608K/MSc_EK/Data/Background_var.nc')\n",
    "df_hor_vel = xr.open_dataset('/nird/projects/NS9608K/MSc_EK/Data/Horizontal_hor_vel.nc')['hor_vel']\n",
    "display(df)"
   ]
  },
  {
   "cell_type": "code",
   "execution_count": 4,
   "metadata": {},
   "outputs": [],
   "source": [
    "# Inner domain\n",
    "domain_center = [[-20,0],[71,74]]\n",
    "OW_center = df_OW.sel(X=slice(domain_center[0][0],domain_center[0][1])).sel(Y=slice(domain_center[1][0],domain_center[1][1])).sel(Z=-1)\n",
    "eta_center = df_eta.sel(X=slice(domain_center[0][0],domain_center[0][1])).sel(Y=slice(domain_center[1][0],domain_center[1][1]))\n",
    "\n",
    "# Outer domain\n",
    "eta = df_eta.sel(X=slice(domain_center[0][0]-2,domain_center[0][1]+2)).sel(Y=slice(domain_center[1][0]-1,domain_center[1][1]+1))\n",
    "OW = df_OW.sel(X=slice(domain_center[0][0]-2,domain_center[0][1]+2)).sel(Y=slice(domain_center[1][0]-1,domain_center[1][1]+1)).sel(Z=-1)"
   ]
  },
  {
   "cell_type": "code",
   "execution_count": 5,
   "metadata": {},
   "outputs": [],
   "source": [
    "# Resample data\n",
    "eta = eta.resample(time='D').mean(dim='time')\n",
    "eta_center = eta_center.resample(time='D').mean(dim='time')\n",
    "OW = OW.resample(time='D').mean(dim='time')\n",
    "OW_center = OW_center.resample(time='D').mean(dim='time')\n",
    "hor_vel = df_hor_vel.resample(time='D').mean(dim='time')\n",
    "\n",
    "# Define time extent\n",
    "time = ['2018-01-01T00:00:00.000000000','2018-01-31T00:00:00.000000000']\n",
    "eta = eta.sel(time=slice(time[0],time[1]))\n",
    "eta_center = eta_center.sel(time=slice(time[0],time[1]))\n",
    "OW = OW.sel(time=slice(time[0],time[1]))\n",
    "OW_center = OW_center.sel(time=slice(time[0],time[1]))\n",
    "hor_vel = hor_vel.sel(X=slice(domain_center[0][0]-2,domain_center[0][1]+2)).sel(Y=slice(domain_center[1][0]-2,domain_center[1][1]+2)).sel(Z=-1).sel(time=slice(time[0],time[1]))"
   ]
  },
  {
   "cell_type": "markdown",
   "metadata": {},
   "source": [
    "# Eddy centerpoints (Child domain)"
   ]
  },
  {
   "cell_type": "code",
   "execution_count": 6,
   "metadata": {},
   "outputs": [
    {
     "name": "stdout",
     "output_type": "stream",
     "text": [
      "###Loading previously saved eddy centerpoints###\n"
     ]
    }
   ],
   "source": [
    "# Computes or loads eddy centerpoints\n",
    "run = config_child_domain\n",
    "\n",
    "if run:\n",
    "    eddyLocation = []\n",
    "    print('###Applying filter###')\n",
    "    for i in range(len(eta)):\n",
    "        eddyLocation.append(eddy.eddyDetection(eta_center[i],OW_center[i]))\n",
    "        print('Processing: ',100*(i+1)/len(eta_center), '%')\n",
    "    with open(\"eddyCenterpoints_test.txt\",'w') as f:\n",
    "        for time in range(len(eddyLocation)):\n",
    "            if time != len(eddyLocation)-1:\n",
    "                f.write(str(eddyLocation[time])+',')\n",
    "            else:\n",
    "                f.write(str(eddyLocation[time]))\n",
    "\n",
    "else:\n",
    "    print('###Loading previously saved eddy centerpoints###')\n",
    "    with open(\"eddyCenterpoints_test.txt\",'r') as f:\n",
    "        data = f.read()\n",
    "        eddyLocation = ast.literal_eval(data)"
   ]
  },
  {
   "cell_type": "markdown",
   "metadata": {},
   "source": [
    "# Try updated Eddy center detection"
   ]
  },
  {
   "cell_type": "code",
   "execution_count": null,
   "metadata": {},
   "outputs": [],
   "source": [
    "import EddyDetectionV2 as testeddy # Works much better"
   ]
  },
  {
   "cell_type": "code",
   "execution_count": 12,
   "metadata": {},
   "outputs": [
    {
     "name": "stderr",
     "output_type": "stream",
     "text": [
      "Generating Frames:   0%|          | 0/131 [00:00<?, ?it/s]"
     ]
    },
    {
     "name": "stderr",
     "output_type": "stream",
     "text": [
      "Generating Frames: 100%|██████████| 131/131 [00:00<00:00, 1330.81it/s]"
     ]
    },
    {
     "name": "stdout",
     "output_type": "stream",
     "text": [
      "Skipped windows %: 88.18671004880491\n"
     ]
    },
    {
     "name": "stderr",
     "output_type": "stream",
     "text": [
      "\n"
     ]
    }
   ],
   "source": [
    "test = testeddy.eddyDetection(eta_center[0],OW_center[0])"
   ]
  },
  {
   "cell_type": "code",
   "execution_count": 14,
   "metadata": {},
   "outputs": [
    {
     "data": {
      "text/plain": [
       "False"
      ]
     },
     "metadata": {},
     "output_type": "display_data"
    },
    {
     "data": {
      "text/plain": [
       "[[71.13324712000001, -14.447136549999986],\n",
       " [71.13324712000001, -9.397923165000002],\n",
       " [71.18737249499999, -13.91529619],\n",
       " [71.27832667499999, -5.971855255000001],\n",
       " [71.35178564499999, -8.006987669999997],\n",
       " [71.35178564499999, -3.6746734799999956],\n",
       " [71.38875489499999, -17.184090635],\n",
       " [71.463187775, -11.039915429999994],\n",
       " [71.51945712999999, -9.484479565000003],\n",
       " [71.671460565, -12.905644134999998],\n",
       " [71.69066815, -14.714621209999985],\n",
       " [71.78742728, -4.4686678699999955],\n",
       " [71.88543071000001, -17.419766980000006],\n",
       " [71.88543071000001, -8.181655034999997],\n",
       " [71.924993885, -10.737527224999994],\n",
       " [71.94485499000001, -13.91529619],\n",
       " [71.96476979, -13.080454489999997],\n",
       " [72.00476254, -10.176089865000002],\n",
       " [72.02484154, -11.645367309999994],\n",
       " [72.085415495, -13.827028024999999],\n",
       " [72.146506485, -1.687209394999996],\n",
       " [72.187528595, -16.438886585000006],\n",
       " [72.187528595, -8.530200194999997],\n",
       " [72.20812984, -16.34663061500001],\n",
       " [72.29115009, -13.431002524999997],\n",
       " [72.312062055, -14.003665869999987],\n",
       " [72.312062055, -6.419260315000002],\n",
       " [72.460275, -10.21928261],\n",
       " [72.460275, -7.875797144999996],\n",
       " [72.503229675, -12.643948335],\n",
       " [72.503229675, -5.29413407],\n",
       " [72.63380034999999, -13.650784999999999],\n",
       " [72.67791276999999, -13.299394579999996],\n",
       " [72.67791276999999, -8.791000230000003],\n",
       " [72.700082895, -4.143556014999996],\n",
       " [72.880286815, -15.888078840000006],\n",
       " [72.880286815, -13.299394579999996],\n",
       " [72.90318058999999, -6.151211045],\n",
       " [72.949223565, -7.744433769999995],\n",
       " [73.042357795, -10.996707989999994],\n",
       " [73.20887301999998, -6.419260315000002],\n",
       " [73.30615950999999, -10.564778199999994],\n",
       " [73.40509082, -8.964615635000005],\n",
       " [73.40509082, -3.909791294999996],\n",
       " [73.53118968000001, -10.780717964999994],\n",
       " [73.53118968000001, -2.7677652999999953],\n",
       " [73.556747305, -10.607963989999995],\n",
       " [73.556747305, -9.787213580000001],\n",
       " [73.76550224499998, -10.996707989999994],\n",
       " [73.81893984999998, -11.992009544999995]]"
      ]
     },
     "metadata": {},
     "output_type": "display_data"
    },
    {
     "data": {
      "text/plain": [
       "[[71.09734426, -8.399611769999996],\n",
       " [71.13324712000001, -14.447136549999986],\n",
       " [71.13324712000001, -9.397923165000002],\n",
       " [71.13324712000001, -8.268886084999997],\n",
       " [71.151252435, -8.138014344999997],\n",
       " [71.18737249499999, -13.91529619],\n",
       " [71.27832667499999, -5.971855255000001],\n",
       " [71.35178564499999, -8.006987669999997],\n",
       " [71.35178564499999, -3.6746734799999956],\n",
       " [71.38875489499999, -17.184090635],\n",
       " [71.463187775, -11.039915429999994],\n",
       " [71.51945712999999, -9.484479565000003],\n",
       " [71.671460565, -12.905644134999998],\n",
       " [71.69066815, -14.714621209999985],\n",
       " [71.78742728, -4.4686678699999955],\n",
       " [71.88543071000001, -17.419766980000006],\n",
       " [71.88543071000001, -8.181655034999997],\n",
       " [71.924993885, -10.737527224999994],\n",
       " [71.94485499000001, -13.91529619],\n",
       " [71.96476979, -13.080454489999997],\n",
       " [72.00476254, -10.176089865000002],\n",
       " [72.02484154, -11.645367309999994],\n",
       " [72.085415495, -13.827028024999999],\n",
       " [72.146506485, -1.687209394999996],\n",
       " [72.187528595, -16.438886585000006],\n",
       " [72.187528595, -8.530200194999997],\n",
       " [72.20812984, -16.34663061500001],\n",
       " [72.29115009, -13.431002524999997],\n",
       " [72.312062055, -14.003665869999987],\n",
       " [72.312062055, -6.419260315000002],\n",
       " [72.460275, -10.21928261],\n",
       " [72.460275, -7.875797144999996],\n",
       " [72.503229675, -12.643948335],\n",
       " [72.503229675, -5.29413407],\n",
       " [72.63380034999999, -13.650784999999999],\n",
       " [72.67791276999999, -13.299394579999996],\n",
       " [72.67791276999999, -8.791000230000003],\n",
       " [72.700082895, -4.143556014999996],\n",
       " [72.880286815, -15.888078840000006],\n",
       " [72.880286815, -13.299394579999996],\n",
       " [72.90318058999999, -6.151211045],\n",
       " [72.949223565, -7.744433769999995],\n",
       " [73.042357795, -10.996707989999994],\n",
       " [73.20887301999998, -6.419260315000002],\n",
       " [73.30615950999999, -10.564778199999994],\n",
       " [73.40509082, -8.964615635000005],\n",
       " [73.40509082, -3.909791294999996],\n",
       " [73.53118968000001, -10.780717964999994],\n",
       " [73.53118968000001, -2.7677652999999953],\n",
       " [73.556747305, -10.607963989999995],\n",
       " [73.556747305, -9.787213580000001],\n",
       " [73.76550224499998, -10.996707989999994],\n",
       " [73.81893984999998, -11.992009544999995]]"
      ]
     },
     "metadata": {},
     "output_type": "display_data"
    }
   ],
   "source": [
    "display(test[0] == eddyLocation[0][0])\n",
    "display(test[0],eddyLocation[0][0])"
   ]
  },
  {
   "cell_type": "code",
   "execution_count": null,
   "metadata": {},
   "outputs": [
    {
     "name": "stdout",
     "output_type": "stream",
     "text": [
      "###Applying filter###\n"
     ]
    },
    {
     "name": "stderr",
     "output_type": "stream",
     "text": [
      "Generating Frames: 100%|██████████| 131/131 [00:00<00:00, 1335.72it/s]\n"
     ]
    },
    {
     "name": "stdout",
     "output_type": "stream",
     "text": [
      "Skipped windows %: 88.18671004880491\n",
      "Processing:  3.225806451612903 %\n"
     ]
    },
    {
     "name": "stderr",
     "output_type": "stream",
     "text": [
      "Generating Frames: 100%|██████████| 131/131 [00:00<00:00, 1424.77it/s]\n"
     ]
    },
    {
     "name": "stdout",
     "output_type": "stream",
     "text": [
      "Skipped windows %: 88.674759103992\n",
      "Processing:  6.451612903225806 %\n"
     ]
    },
    {
     "name": "stderr",
     "output_type": "stream",
     "text": [
      "Generating Frames: 100%|██████████| 131/131 [00:00<00:00, 1266.47it/s]\n"
     ]
    },
    {
     "name": "stdout",
     "output_type": "stream",
     "text": [
      "Skipped windows %: 87.17485742889322\n",
      "Processing:  9.67741935483871 %\n"
     ]
    },
    {
     "name": "stderr",
     "output_type": "stream",
     "text": [
      "Generating Frames: 100%|██████████| 131/131 [00:00<00:00, 1142.38it/s]\n"
     ]
    },
    {
     "name": "stdout",
     "output_type": "stream",
     "text": [
      "Skipped windows %: 85.7732806550226\n",
      "Processing:  12.903225806451612 %\n"
     ]
    },
    {
     "name": "stderr",
     "output_type": "stream",
     "text": [
      "Generating Frames: 100%|██████████| 131/131 [00:00<00:00, 1108.02it/s]\n"
     ]
    },
    {
     "name": "stdout",
     "output_type": "stream",
     "text": [
      "Skipped windows %: 85.57663085256628\n",
      "Processing:  16.129032258064516 %\n"
     ]
    },
    {
     "name": "stderr",
     "output_type": "stream",
     "text": [
      "Generating Frames: 100%|██████████| 131/131 [00:00<00:00, 1121.56it/s]\n"
     ]
    },
    {
     "name": "stdout",
     "output_type": "stream",
     "text": [
      "Skipped windows %: 85.44791461823122\n",
      "Processing:  19.35483870967742 %\n"
     ]
    },
    {
     "name": "stderr",
     "output_type": "stream",
     "text": [
      "Generating Frames: 100%|██████████| 131/131 [00:00<00:00, 1130.50it/s]\n"
     ]
    },
    {
     "name": "stdout",
     "output_type": "stream",
     "text": [
      "Skipped windows %: 85.46936732395373\n",
      "Processing:  22.580645161290324 %\n"
     ]
    },
    {
     "name": "stderr",
     "output_type": "stream",
     "text": [
      "Generating Frames: 100%|██████████| 131/131 [00:00<00:00, 1232.08it/s]\n"
     ]
    },
    {
     "name": "stdout",
     "output_type": "stream",
     "text": [
      "Skipped windows %: 86.79585962779555\n",
      "Processing:  25.806451612903224 %\n"
     ]
    },
    {
     "name": "stderr",
     "output_type": "stream",
     "text": [
      "Generating Frames: 100%|██████████| 131/131 [00:00<00:00, 1272.83it/s]\n"
     ]
    },
    {
     "name": "stdout",
     "output_type": "stream",
     "text": [
      "Skipped windows %: 87.28748413393639\n",
      "Processing:  29.032258064516128 %\n"
     ]
    },
    {
     "name": "stderr",
     "output_type": "stream",
     "text": [
      "Generating Frames: 100%|██████████| 131/131 [00:00<00:00, 1398.06it/s]\n"
     ]
    },
    {
     "name": "stdout",
     "output_type": "stream",
     "text": [
      "Skipped windows %: 88.54604286965694\n",
      "Processing:  32.25806451612903 %\n"
     ]
    },
    {
     "name": "stderr",
     "output_type": "stream",
     "text": [
      "Generating Frames: 100%|██████████| 131/131 [00:00<00:00, 1371.32it/s]\n"
     ]
    },
    {
     "name": "stdout",
     "output_type": "stream",
     "text": [
      "Skipped windows %: 88.5782219282407\n",
      "Processing:  35.483870967741936 %\n"
     ]
    },
    {
     "name": "stderr",
     "output_type": "stream",
     "text": [
      "Generating Frames: 100%|██████████| 131/131 [00:00<00:00, 1401.10it/s]\n"
     ]
    },
    {
     "name": "stdout",
     "output_type": "stream",
     "text": [
      "Skipped windows %: 88.14201691188302\n",
      "Processing:  38.70967741935484 %\n"
     ]
    },
    {
     "name": "stderr",
     "output_type": "stream",
     "text": [
      "Generating Frames: 100%|██████████| 131/131 [00:00<00:00, 1316.02it/s]\n"
     ]
    },
    {
     "name": "stdout",
     "output_type": "stream",
     "text": [
      "Skipped windows %: 87.63966605288091\n",
      "Processing:  41.935483870967744 %\n"
     ]
    },
    {
     "name": "stderr",
     "output_type": "stream",
     "text": [
      "Generating Frames: 100%|██████████| 131/131 [00:00<00:00, 1267.06it/s]\n"
     ]
    },
    {
     "name": "stdout",
     "output_type": "stream",
     "text": [
      "Skipped windows %: 87.14446609578633\n",
      "Processing:  45.16129032258065 %\n"
     ]
    },
    {
     "name": "stderr",
     "output_type": "stream",
     "text": [
      "Generating Frames: 100%|██████████| 131/131 [00:00<00:00, 1129.52it/s]\n"
     ]
    },
    {
     "name": "stdout",
     "output_type": "stream",
     "text": [
      "Skipped windows %: 86.5938466489086\n",
      "Processing:  48.38709677419355 %\n"
     ]
    },
    {
     "name": "stderr",
     "output_type": "stream",
     "text": [
      "Generating Frames: 100%|██████████| 131/131 [00:00<00:00, 1113.16it/s]\n"
     ]
    },
    {
     "name": "stdout",
     "output_type": "stream",
     "text": [
      "Skipped windows %: 85.96099183009457\n",
      "Processing:  51.61290322580645 %\n"
     ]
    },
    {
     "name": "stderr",
     "output_type": "stream",
     "text": [
      "Generating Frames: 100%|██████████| 131/131 [00:00<00:00, 1125.87it/s]\n"
     ]
    },
    {
     "name": "stdout",
     "output_type": "stream",
     "text": [
      "Skipped windows %: 85.34780199152618\n",
      "Processing:  54.83870967741935 %\n"
     ]
    },
    {
     "name": "stderr",
     "output_type": "stream",
     "text": [
      "Generating Frames: 100%|██████████| 131/131 [00:00<00:00, 1305.41it/s]\n"
     ]
    },
    {
     "name": "stdout",
     "output_type": "stream",
     "text": [
      "Skipped windows %: 87.59139746500527\n",
      "Processing:  58.064516129032256 %\n"
     ]
    },
    {
     "name": "stderr",
     "output_type": "stream",
     "text": [
      "Generating Frames: 100%|██████████| 131/131 [00:00<00:00, 1315.17it/s]\n"
     ]
    },
    {
     "name": "stdout",
     "output_type": "stream",
     "text": [
      "Skipped windows %: 87.7147505229097\n",
      "Processing:  61.29032258064516 %\n"
     ]
    },
    {
     "name": "stderr",
     "output_type": "stream",
     "text": [
      "Generating Frames: 100%|██████████| 131/131 [00:00<00:00, 1525.40it/s]\n"
     ]
    },
    {
     "name": "stdout",
     "output_type": "stream",
     "text": [
      "Skipped windows %: 89.63476768507428\n",
      "Processing:  64.51612903225806 %\n"
     ]
    },
    {
     "name": "stderr",
     "output_type": "stream",
     "text": [
      "Generating Frames: 100%|██████████| 131/131 [00:00<00:00, 1574.93it/s]\n"
     ]
    },
    {
     "name": "stdout",
     "output_type": "stream",
     "text": [
      "Skipped windows %: 89.86538427159125\n",
      "Processing:  67.74193548387096 %\n"
     ]
    },
    {
     "name": "stderr",
     "output_type": "stream",
     "text": [
      "Generating Frames: 100%|██████████| 131/131 [00:00<00:00, 1537.03it/s]\n"
     ]
    },
    {
     "name": "stdout",
     "output_type": "stream",
     "text": [
      "Skipped windows %: 89.68839944938055\n",
      "Processing:  70.96774193548387 %\n"
     ]
    },
    {
     "name": "stderr",
     "output_type": "stream",
     "text": [
      "Generating Frames: 100%|██████████| 131/131 [00:00<00:00, 1402.23it/s]\n"
     ]
    },
    {
     "name": "stdout",
     "output_type": "stream",
     "text": [
      "Skipped windows %: 88.57107102633319\n",
      "Processing:  74.19354838709677 %\n"
     ]
    },
    {
     "name": "stderr",
     "output_type": "stream",
     "text": [
      "Generating Frames: 100%|██████████| 131/131 [00:00<00:00, 1231.26it/s]\n"
     ]
    },
    {
     "name": "stdout",
     "output_type": "stream",
     "text": [
      "Skipped windows %: 86.84234049019433\n",
      "Processing:  77.41935483870968 %\n"
     ]
    },
    {
     "name": "stderr",
     "output_type": "stream",
     "text": [
      "Generating Frames: 100%|██████████| 131/131 [00:00<00:00, 1186.47it/s]\n"
     ]
    },
    {
     "name": "stdout",
     "output_type": "stream",
     "text": [
      "Skipped windows %: 86.21306112233405\n",
      "Processing:  80.64516129032258 %\n"
     ]
    },
    {
     "name": "stderr",
     "output_type": "stream",
     "text": [
      "Generating Frames: 100%|██████████| 131/131 [00:00<00:00, 1266.40it/s]\n"
     ]
    },
    {
     "name": "stdout",
     "output_type": "stream",
     "text": [
      "Skipped windows %: 87.20703648747698\n",
      "Processing:  83.87096774193549 %\n"
     ]
    },
    {
     "name": "stderr",
     "output_type": "stream",
     "text": [
      "Generating Frames: 100%|██████████| 131/131 [00:00<00:00, 1177.69it/s]\n"
     ]
    },
    {
     "name": "stdout",
     "output_type": "stream",
     "text": [
      "Skipped windows %: 86.2094856713803\n",
      "Processing:  87.09677419354838 %\n"
     ]
    },
    {
     "name": "stderr",
     "output_type": "stream",
     "text": [
      "Generating Frames: 100%|██████████| 131/131 [00:00<00:00, 1133.67it/s]\n"
     ]
    },
    {
     "name": "stdout",
     "output_type": "stream",
     "text": [
      "Skipped windows %: 85.63920124425694\n",
      "Processing:  90.3225806451613 %\n"
     ]
    },
    {
     "name": "stderr",
     "output_type": "stream",
     "text": [
      "Generating Frames: 100%|██████████| 131/131 [00:00<00:00, 1157.64it/s]\n"
     ]
    },
    {
     "name": "stdout",
     "output_type": "stream",
     "text": [
      "Skipped windows %: 85.90199688935766\n",
      "Processing:  93.54838709677419 %\n"
     ]
    },
    {
     "name": "stderr",
     "output_type": "stream",
     "text": [
      "Generating Frames: 100%|██████████| 131/131 [00:00<00:00, 1236.24it/s]\n"
     ]
    },
    {
     "name": "stdout",
     "output_type": "stream",
     "text": [
      "Skipped windows %: 86.90848633283873\n",
      "Processing:  96.7741935483871 %\n"
     ]
    },
    {
     "name": "stderr",
     "output_type": "stream",
     "text": [
      "Generating Frames: 100%|██████████| 131/131 [00:00<00:00, 1293.72it/s]"
     ]
    },
    {
     "name": "stdout",
     "output_type": "stream",
     "text": [
      "Skipped windows %: 87.36256860396517\n",
      "Processing:  100.0 %\n"
     ]
    },
    {
     "name": "stderr",
     "output_type": "stream",
     "text": [
      "\n"
     ]
    }
   ],
   "source": [
    "# Computes or loads eddy centerpoints\n",
    "run = config_child_domain\n",
    "run = True\n",
    "\n",
    "if run:\n",
    "    eddyLocation = []\n",
    "    print('###Applying filter###')\n",
    "    for i in range(len(eta)):\n",
    "        eddyLocation.append(testeddy.eddyDetection(eta_center[i],OW_center[i]))\n",
    "        print('Processing: ',100*(i+1)/len(eta_center), '%')\n",
    "    with open(\"eddyCenterpoints_test_v2.txt\",'w') as f:\n",
    "        for time in range(len(eddyLocation)):\n",
    "            if time != len(eddyLocation)-1:\n",
    "                f.write(str(eddyLocation[time])+',')\n",
    "            else:\n",
    "                f.write(str(eddyLocation[time]))\n",
    "\n",
    "else:\n",
    "    print('###Loading previously saved eddy centerpoints###')\n",
    "    with open(\"eddyCenterpoints_test_v2.txt\",'r') as f:\n",
    "        data = f.read()\n",
    "        eddyLocation = ast.literal_eval(data)"
   ]
  },
  {
   "cell_type": "code",
   "execution_count": null,
   "metadata": {},
   "outputs": [],
   "source": []
  }
 ],
 "metadata": {
  "kernelspec": {
   "display_name": "MSc_env",
   "language": "python",
   "name": "python3"
  },
  "language_info": {
   "codemirror_mode": {
    "name": "ipython",
    "version": 3
   },
   "file_extension": ".py",
   "mimetype": "text/x-python",
   "name": "python",
   "nbconvert_exporter": "python",
   "pygments_lexer": "ipython3",
   "version": "3.11.9"
  }
 },
 "nbformat": 4,
 "nbformat_minor": 2
}
