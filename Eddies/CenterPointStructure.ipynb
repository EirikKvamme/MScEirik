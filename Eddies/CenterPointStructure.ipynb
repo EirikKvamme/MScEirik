{
 "cells": [
  {
   "cell_type": "code",
   "execution_count": 4,
   "metadata": {},
   "outputs": [],
   "source": [
    "import matplotlib.pyplot as plt\n",
    "import numpy as np\n",
    "from matplotlib.colors import LinearSegmentedColormap\n",
    "\n",
    "# Set default font size to match LaTeX document\n",
    "plt.rcParams.update({\n",
    "    'font.size': 11,       # Default text size\n",
    "    'axes.titlesize': 10,  # Title size\n",
    "    'axes.labelsize': 10,  # Axis label size\n",
    "    'xtick.labelsize': 8, # X-tick label size\n",
    "    'ytick.labelsize': 8, # Y-tick label size\n",
    "    'legend.fontsize': 8, # Legend font size\n",
    "    'figure.titlesize': 12 # Figure title size\n",
    "})"
   ]
  },
  {
   "cell_type": "code",
   "execution_count": 5,
   "metadata": {},
   "outputs": [],
   "source": [
    "grid = np.zeros((11,11))\n",
    "grid[5,5] = 5\n",
    "for i in range(1,len(grid)-1):\n",
    "    if i<5:\n",
    "        grid[5,i] = i\n",
    "        grid[i,5] = i\n",
    "        if i != 1:\n",
    "            grid[i,i] = i\n",
    "            grid[i,-i-1] = i\n",
    "    elif i>5:\n",
    "        grid[5,i] = 1 + (9-i)\n",
    "        grid[i,5] = 1 + (9-i)\n",
    "        if i != len(grid)-2:\n",
    "            grid[i,i] = 1 + (9-i)\n",
    "            grid[i,-i-1] = 1 + (9-i)"
   ]
  },
  {
   "cell_type": "code",
   "execution_count": 6,
   "metadata": {},
   "outputs": [
    {
     "data": {
      "text/plain": [
       "array([[0., 0., 0., 0., 0., 0., 0., 0., 0., 0., 0.],\n",
       "       [0., 0., 0., 0., 0., 1., 0., 0., 0., 0., 0.],\n",
       "       [0., 0., 2., 0., 0., 2., 0., 0., 2., 0., 0.],\n",
       "       [0., 0., 0., 3., 0., 3., 0., 3., 0., 0., 0.],\n",
       "       [0., 0., 0., 0., 4., 4., 4., 0., 0., 0., 0.],\n",
       "       [0., 1., 2., 3., 4., 5., 4., 3., 2., 1., 0.],\n",
       "       [0., 0., 0., 0., 4., 4., 4., 0., 0., 0., 0.],\n",
       "       [0., 0., 0., 3., 0., 3., 0., 3., 0., 0., 0.],\n",
       "       [0., 0., 2., 0., 0., 2., 0., 0., 2., 0., 0.],\n",
       "       [0., 0., 0., 0., 0., 1., 0., 0., 0., 0., 0.],\n",
       "       [0., 0., 0., 0., 0., 0., 0., 0., 0., 0., 0.]])"
      ]
     },
     "metadata": {},
     "output_type": "display_data"
    },
    {
     "data": {
      "text/plain": [
       "11"
      ]
     },
     "metadata": {},
     "output_type": "display_data"
    },
    {
     "data": {
      "text/plain": [
       "11"
      ]
     },
     "metadata": {},
     "output_type": "display_data"
    },
    {
     "data": {
      "text/plain": [
       "True"
      ]
     },
     "metadata": {},
     "output_type": "display_data"
    }
   ],
   "source": [
    "display(grid)\n",
    "axs = np.arange(-5,6)\n",
    "display(len(axs),len(grid))\n",
    "display(len(axs)==len(grid))"
   ]
  },
  {
   "cell_type": "code",
   "execution_count": 21,
   "metadata": {},
   "outputs": [
    {
     "data": {
      "image/png": "[encoded data removed]",
      "text/plain": [
       "<Figure size 622.17x311.085 with 2 Axes>"
      ]
     },
     "metadata": {},
     "output_type": "display_data"
    }
   ],
   "source": [
    "fig, (ax1,ax2) = plt.subplots(1,2,figsize=(6.2217, 6.2217/2),layout='constrained')\n",
    "ax1.pcolor(axs,axs,grid,cmap='Blues',edgecolor='black',linewidth=0.25)\n",
    "ax2.pcolor(axs,axs,grid,cmap='Reds',edgecolor='black',linewidth=0.25)\n",
    "\n",
    "ax1.plot([-4.5,4.5,4.5,-4.5,-4.5],[-4.5,-4.5,4.5,4.5,-4.5],color='black',linewidth=1)\n",
    "ax2.plot([-4.5,4.5,4.5,-4.5,-4.5],[-4.5,-4.5,4.5,4.5,-4.5],color='black',linewidth=1)\n",
    "\n",
    "ax1.set_ylabel('j',rotation=0)\n",
    "ax2.set_ylabel('j',rotation=0)\n",
    "ax1.set_xlabel('i')\n",
    "ax2.set_xlabel('i')\n",
    "\n",
    "ax1.annotate('(a)',xy=[-5.4,4.8],fontweight='bold')\n",
    "ax2.annotate('(b)',xy=[-5.4,4.8],fontweight='bold')\n",
    "\n",
    "fig.savefig('/nird/home/ekv036/MSc/Fig/CenterPointStructure',dpi=300, facecolor='w', edgecolor='w',\n",
    "          orientation='landscape', format=None,\n",
    "          transparent=False, bbox_inches=None,pad_inches=0.25)"
   ]
  },
  {
   "cell_type": "code",
   "execution_count": null,
   "metadata": {},
   "outputs": [],
   "source": []
  }
 ],
 "metadata": {
  "kernelspec": {
   "display_name": "MSc_env",
   "language": "python",
   "name": "python3"
  },
  "language_info": {
   "codemirror_mode": {
    "name": "ipython",
    "version": 3
   },
   "file_extension": ".py",
   "mimetype": "text/x-python",
   "name": "python",
   "nbconvert_exporter": "python",
   "pygments_lexer": "ipython3",
   "version": "3.11.9"
  }
 },
 "nbformat": 4,
 "nbformat_minor": 2
}
